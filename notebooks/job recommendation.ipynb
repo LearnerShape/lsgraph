{
 "cells": [
  {
   "cell_type": "markdown",
   "metadata": {},
   "source": [
    "# Job recommendation\n",
    "\n",
    "The skills of an individual can be compared with the skills of job profiles giving an indication of how easy it would be to transition to a particular job.\n",
    "\n",
    "This notebook will demonstrate this functionality using the users and profiles created in the setup notebook. If you have not already gone through the setup notebook please do so before running the code below."
   ]
  },
  {
   "cell_type": "code",
   "execution_count": 23,
   "metadata": {},
   "outputs": [],
   "source": [
    "import requests\n",
    "\n",
    "# If using the docker-compose file lsgraph will be available on localhost port 5000\n",
    "base_url = \"http://localhost:5000\""
   ]
  },
  {
   "cell_type": "code",
   "execution_count": 7,
   "metadata": {},
   "outputs": [
    {
     "name": "stdout",
     "output_type": "stream",
     "text": [
      "Status code 200\n",
      "Response [{'graph_tag': 'test', 'id': 1, 'name': 'Test graph'}]\n",
      "Status code 200\n",
      "Response [{'id': 1, 'name': 'Test organisation'}]\n"
     ]
    }
   ],
   "source": [
    "# Get organisation and graph details\n",
    "\n",
    "r = requests.get(base_url + \"/api/v1/graphs\")\n",
    "print(\"Status code\", r.status_code)\n",
    "\n",
    "print(\"Graph response\", r.json())\n",
    "\n",
    "graph_tag = \"test\"\n",
    "assert graph_tag in [i['graph_tag'] for i in r.json()], \"Graph not found, run setup notebook\"\n",
    "\n",
    "r = requests.get(base_url + \"/api/v1/organisations\")\n",
    "print(\"Status code\", r.status_code)\n",
    "\n",
    "print(\"Organisation response\", r.json())\n",
    "\n",
    "# Get organisation ID for the test organisation created during setup\n",
    "assert 'Test organisation' in [i['name'] for i in r.json()], \"Organisation not found, run setup notebook\"\n",
    "organisation_id = [i for i in r.json() if i[\"name\"] == \"Test organisation\"][0][\"id\"]"
   ]
  },
  {
   "cell_type": "code",
   "execution_count": 16,
   "metadata": {},
   "outputs": [
    {
     "name": "stdout",
     "output_type": "stream",
     "text": [
      "Status code 200\n",
      "Response [{'id': 1, 'name': 'Adam'}, {'id': 2, 'name': 'Beth'}, {'id': 3, 'name': 'Chris'}, {'id': 4, 'name': 'Dani'}]\n"
     ]
    }
   ],
   "source": [
    "# Get users\n",
    "\n",
    "r = requests.get(base_url + \"/api/v1/organisations/{0}/users\".format(organisation_id))\n",
    "print(\"Status code\", r.status_code)\n",
    "\n",
    "print(\"Response\", r.json())\n",
    "all_users = r.json()"
   ]
  },
  {
   "cell_type": "code",
   "execution_count": 17,
   "metadata": {},
   "outputs": [],
   "source": [
    "# Get user profiles\n",
    "\n",
    "user_profiles = {}\n",
    "for user in all_users:\n",
    "    r = requests.get(base_url + \"/api/v1/organisations/{0}/users/{1}\".format(organisation_id, user[\"id\"]))\n",
    "    user_detail = r.json()\n",
    "    user_profiles[user_detail[\"name\"]] = user_detail[\"profile_id\"]"
   ]
  },
  {
   "cell_type": "code",
   "execution_count": 18,
   "metadata": {},
   "outputs": [
    {
     "data": {
      "text/plain": [
       "{'Adam': 30, 'Beth': 31, 'Chris': 32, 'Dani': 33}"
      ]
     },
     "execution_count": 18,
     "metadata": {},
     "output_type": "execute_result"
    }
   ],
   "source": [
    "user_profiles"
   ]
  },
  {
   "cell_type": "code",
   "execution_count": 20,
   "metadata": {},
   "outputs": [
    {
     "name": "stdout",
     "output_type": "stream",
     "text": [
      "Status code 200\n",
      "Response [{'id': 1, 'name': 'Applications Engineer'}, {'id': 2, 'name': 'Data Scientist'}, {'id': 3, 'name': 'Computer and Information Systems Managers'}, {'id': 4, 'name': 'Web Developers'}, {'id': 5, 'name': 'Software Engineer'}, {'id': 6, 'name': 'Software Engineer ML'}, {'id': 7, 'name': 'Systems Engineer'}, {'id': 8, 'name': 'DevOps Engineer'}, {'id': 9, 'name': 'Machine Learning Researcher'}, {'id': 10, 'name': 'Business Intelligence Analyst'}, {'id': 11, 'name': 'Software Developers, Applications'}, {'id': 12, 'name': 'Cloud architect'}, {'id': 13, 'name': 'Sales Engineer'}, {'id': 14, 'name': 'Database Administrators'}, {'id': 15, 'name': 'Security Engineer'}, {'id': 16, 'name': 'Computer Hardware Engineers'}, {'id': 17, 'name': 'Data Engineer'}, {'id': 18, 'name': 'Product Manager'}, {'id': 19, 'name': 'UX Designer'}, {'id': 20, 'name': 'Solutions Architect'}, {'id': 21, 'name': 'Mobile Developer'}, {'id': 22, 'name': 'Machine Learning Engineer'}, {'id': 23, 'name': 'Information Security Analysts'}, {'id': 24, 'name': 'Data Analyst'}, {'id': 25, 'name': 'Full stack developer'}, {'id': 26, 'name': 'Systems Administrator'}, {'id': 27, 'name': 'Electrical Engineer'}, {'id': 28, 'name': 'Database Architects'}, {'id': 29, 'name': 'Chief Information Security Officer'}]\n"
     ]
    }
   ],
   "source": [
    "# Get profiles\n",
    "\n",
    "r = requests.get(base_url + \"/api/v1/organisations/{0}/profiles\".format(organisation_id))\n",
    "print(\"Status code\", r.status_code)\n",
    "\n",
    "print(\"Response\", r.json())\n",
    "all_profiles = {i[\"id\"]:i[\"name\"] for i in r.json()}"
   ]
  },
  {
   "cell_type": "code",
   "execution_count": 21,
   "metadata": {},
   "outputs": [],
   "source": [
    "all_profile_ids = list(all_profiles.keys())"
   ]
  },
  {
   "cell_type": "markdown",
   "metadata": {},
   "source": [
    "## Getting recommendations\n",
    "\n",
    "The job recommendation service expects \n",
    "\n",
    "* a source profile ID (available in user_profiles above)\n",
    "* a list of target profile IDs (available in all_profile_ids)\n",
    "* a method (see below)\n",
    "* a graph_tag associated with the graph containing the skills used in the profiles\n",
    "\n",
    "There are two methods available; distance and duration. Distance is relatively simple and always available. Duration is an experimental alternative that requires scored courses for each skill. "
   ]
  },
  {
   "cell_type": "code",
   "execution_count": 34,
   "metadata": {},
   "outputs": [
    {
     "name": "stdout",
     "output_type": "stream",
     "text": [
      "Status code 200\n"
     ]
    }
   ],
   "source": [
    "data = {\"source_profile\":user_profiles[\"Adam\"],\n",
    "        \"target_profiles\":all_profile_ids,\n",
    "        \"method\":\"distance\",\n",
    "        \"graph_tag\":graph_tag}\n",
    "\n",
    "r = requests.post(base_url + \"/job/recommendation\", json=data)\n",
    "print(\"Status code\", r.status_code)\n",
    "\n",
    "results = r.json()[\"profiles\"]"
   ]
  },
  {
   "cell_type": "code",
   "execution_count": 35,
   "metadata": {},
   "outputs": [],
   "source": [
    "# Fix type of profile ids (JSON converts keys to strings) and sort by distance\n",
    "\n",
    "results = [(int(profile_id),result) for profile_id,result in results.items()]\n",
    "results.sort(key=lambda x:x[1][\"distance\"])"
   ]
  },
  {
   "cell_type": "code",
   "execution_count": 48,
   "metadata": {},
   "outputs": [
    {
     "name": "stdout",
     "output_type": "stream",
     "text": [
      "Profile ID  |Profile                                      |Distance\n",
      "17          |Data Engineer                                |0  \n",
      "20          |Solutions Architect                          |12 \n",
      "10          |Business Intelligence Analyst                |13 \n",
      "14          |Database Administrators                      |13 \n",
      "3           |Computer and Information Systems Managers    |15 \n",
      "5           |Software Engineer                            |16 \n",
      "13          |Sales Engineer                               |16 \n",
      "1           |Applications Engineer                        |17 \n",
      "15          |Security Engineer                            |17 \n",
      "18          |Product Manager                              |18 \n",
      "21          |Mobile Developer                             |19 \n",
      "7           |Systems Engineer                             |21 \n",
      "24          |Data Analyst                                 |21 \n",
      "28          |Database Architects                          |21 \n",
      "26          |Systems Administrator                        |24 \n",
      "19          |UX Designer                                  |27 \n",
      "4           |Web Developers                               |28 \n",
      "12          |Cloud architect                              |30 \n",
      "11          |Software Developers, Applications            |31 \n",
      "8           |DevOps Engineer                              |32 \n",
      "27          |Electrical Engineer                          |33 \n",
      "25          |Full stack developer                         |36 \n",
      "16          |Computer Hardware Engineers                  |37 \n",
      "23          |Information Security Analysts                |37 \n",
      "2           |Data Scientist                               |39 \n",
      "9           |Machine Learning Researcher                  |39 \n",
      "6           |Software Engineer ML                         |42 \n",
      "22          |Machine Learning Engineer                    |43 \n",
      "29          |Chief Information Security Officer           |43 \n"
     ]
    }
   ],
   "source": [
    "print(\"{0:<12}|{1:<45}|{2:<3}\".format(\"Profile ID\", \"Profile\", \"Distance\"))\n",
    "for profile_id,result in results:\n",
    "    print(\"{0:<12}|{1:<45}|{2:<3}\".format(profile_id, all_profiles[int(profile_id)], result[\"distance\"]))"
   ]
  },
  {
   "cell_type": "markdown",
   "metadata": {},
   "source": [
    "During setup we used job profiles to create the users. The user above, Adam, was given the competences from the Data Engineer profile. As the competences in the user profile and Data Engineer profile are the same the distance is 0."
   ]
  },
  {
   "cell_type": "code",
   "execution_count": null,
   "metadata": {},
   "outputs": [],
   "source": []
  },
  {
   "cell_type": "code",
   "execution_count": null,
   "metadata": {},
   "outputs": [],
   "source": []
  }
 ],
 "metadata": {
  "kernelspec": {
   "display_name": "Python 3",
   "language": "python",
   "name": "python3"
  },
  "language_info": {
   "codemirror_mode": {
    "name": "ipython",
    "version": 3
   },
   "file_extension": ".py",
   "mimetype": "text/x-python",
   "name": "python",
   "nbconvert_exporter": "python",
   "pygments_lexer": "ipython3",
   "version": "3.6.9"
  }
 },
 "nbformat": 4,
 "nbformat_minor": 2
}
