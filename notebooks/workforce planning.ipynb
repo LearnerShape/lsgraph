{
 "cells": [
  {
   "cell_type": "markdown",
   "metadata": {},
   "source": [
    "# Workforce planning\n",
    "\n",
    "Job recommendation can be extended across all members of an organisation.\n",
    "\n",
    "The skills of each individual is compared with the skills of each job profile and an optimal set of suggestions returned.\n",
    "\n",
    "This notebook will demonstrate this functionality using the users and profiles created in the setup notebook. If you have not already gone through the setup notebook please do so before running the code below."
   ]
  },
  {
   "cell_type": "code",
   "execution_count": 1,
   "metadata": {},
   "outputs": [],
   "source": [
    "import requests\n",
    "\n",
    "# If using the docker-compose file lsgraph will be available on localhost port 5000\n",
    "base_url = \"http://localhost:5000\""
   ]
  },
  {
   "cell_type": "code",
   "execution_count": 2,
   "metadata": {},
   "outputs": [
    {
     "name": "stdout",
     "output_type": "stream",
     "text": [
      "Status code 200\n",
      "Graph response [{'graph_tag': 'test', 'id': 1, 'name': 'Test graph'}]\n",
      "Status code 200\n",
      "Organisation response [{'id': 1, 'name': 'Test organisation'}]\n"
     ]
    }
   ],
   "source": [
    "# Get organisation and graph details\n",
    "\n",
    "r = requests.get(base_url + \"/api/v1/graphs\")\n",
    "print(\"Status code\", r.status_code)\n",
    "\n",
    "print(\"Graph response\", r.json())\n",
    "\n",
    "graph_tag = \"test\"\n",
    "assert graph_tag in [i['graph_tag'] for i in r.json()], \"Graph not found, run setup notebook\"\n",
    "\n",
    "r = requests.get(base_url + \"/api/v1/organisations\")\n",
    "print(\"Status code\", r.status_code)\n",
    "\n",
    "print(\"Organisation response\", r.json())\n",
    "\n",
    "# Get organisation ID for the test organisation created during setup\n",
    "assert 'Test organisation' in [i['name'] for i in r.json()], \"Organisation not found, run setup notebook\"\n",
    "organisation_id = [i for i in r.json() if i[\"name\"] == \"Test organisation\"][0][\"id\"]"
   ]
  },
  {
   "cell_type": "code",
   "execution_count": 3,
   "metadata": {},
   "outputs": [
    {
     "name": "stdout",
     "output_type": "stream",
     "text": [
      "Status code 200\n",
      "Response [{'id': 3, 'name': 'Adam'}, {'id': 4, 'name': 'Beth'}, {'id': 5, 'name': 'Chris'}, {'id': 6, 'name': 'Dani'}]\n"
     ]
    }
   ],
   "source": [
    "# Get users\n",
    "\n",
    "r = requests.get(base_url + \"/api/v1/organisations/{0}/users\".format(organisation_id))\n",
    "print(\"Status code\", r.status_code)\n",
    "\n",
    "print(\"Response\", r.json())\n",
    "all_users = r.json()\n",
    "all_users = {i[\"id\"]:i[\"name\"] for i in all_users}"
   ]
  },
  {
   "cell_type": "code",
   "execution_count": 4,
   "metadata": {},
   "outputs": [
    {
     "name": "stdout",
     "output_type": "stream",
     "text": [
      "Status code 200\n",
      "Response [{'id': 1, 'name': 'Test organisation'}, {'id': 2, 'name': 'Applications Engineer'}, {'id': 3, 'name': 'Applications Engineer'}, {'id': 4, 'name': 'Data Scientist'}, {'id': 5, 'name': 'Computer and Information Systems Managers'}, {'id': 6, 'name': 'Web Developers'}, {'id': 7, 'name': 'Software Engineer'}, {'id': 8, 'name': 'Software Engineer ML'}, {'id': 9, 'name': 'Systems Engineer'}, {'id': 10, 'name': 'DevOps Engineer'}, {'id': 11, 'name': 'Machine Learning Researcher'}, {'id': 12, 'name': 'Business Intelligence Analyst'}, {'id': 13, 'name': 'Software Developers, Applications'}, {'id': 14, 'name': 'Cloud architect'}, {'id': 15, 'name': 'Sales Engineer'}, {'id': 16, 'name': 'Database Administrators'}, {'id': 17, 'name': 'Security Engineer'}, {'id': 18, 'name': 'Computer Hardware Engineers'}, {'id': 19, 'name': 'Data Engineer'}, {'id': 20, 'name': 'Product Manager'}, {'id': 21, 'name': 'UX Designer'}, {'id': 22, 'name': 'Solutions Architect'}, {'id': 23, 'name': 'Mobile Developer'}, {'id': 24, 'name': 'Machine Learning Engineer'}, {'id': 25, 'name': 'Information Security Analysts'}, {'id': 26, 'name': 'Data Analyst'}, {'id': 27, 'name': 'Full stack developer'}, {'id': 28, 'name': 'Systems Administrator'}, {'id': 29, 'name': 'Electrical Engineer'}, {'id': 30, 'name': 'Database Architects'}, {'id': 31, 'name': 'Chief Information Security Officer'}]\n"
     ]
    }
   ],
   "source": [
    "# Get profiles\n",
    "\n",
    "r = requests.get(base_url + \"/api/v1/organisations/{0}/profiles\".format(organisation_id))\n",
    "print(\"Status code\", r.status_code)\n",
    "\n",
    "print(\"Response\", r.json())\n",
    "all_profiles = {i[\"id\"]:i[\"name\"] for i in r.json()}\n",
    "profile_map = {i[\"name\"]:i[\"id\"] for i in r.json()}"
   ]
  },
  {
   "cell_type": "markdown",
   "metadata": {},
   "source": [
    "## Getting recommendations\n",
    "\n",
    "The workforce planning service expects \n",
    "\n",
    "* an organisation ID (or list of user IDs in employee_ids)\n",
    "* a list of dictionaries containing target profile IDs, number needed, and a maximum distance\n",
    "* a graph_tag associated with the graph containing the skills used in the profiles\n",
    "\n"
   ]
  },
  {
   "cell_type": "code",
   "execution_count": 5,
   "metadata": {},
   "outputs": [
    {
     "name": "stdout",
     "output_type": "stream",
     "text": [
      "Status code 200\n"
     ]
    }
   ],
   "source": [
    "data = {\"organisation_id\":organisation_id,\n",
    "        \"target_profiles\":[{\"profile_id\":profile_map[\"Applications Engineer\"],\n",
    "                            \"number_needed\":2,\n",
    "                            \"max_training\":100},\n",
    "                          {\"profile_id\":profile_map[\"Security Engineer\"],\n",
    "                            \"number_needed\":2,\n",
    "                            \"max_training\":100},\n",
    "                          {\"profile_id\":profile_map[\"Electrical Engineer\"],\n",
    "                            \"number_needed\":2,\n",
    "                            \"max_training\":100}],\n",
    "        \"method\":\"distance\",\n",
    "        \"graph_tag\":graph_tag}\n",
    "\n",
    "r = requests.post(base_url + \"/workforce_planning\", json=data)\n",
    "print(\"Status code\", r.status_code)\n",
    "\n",
    "results = r.json()"
   ]
  },
  {
   "cell_type": "code",
   "execution_count": 6,
   "metadata": {},
   "outputs": [
    {
     "name": "stdout",
     "output_type": "stream",
     "text": [
      "Best match for each target\n",
      "Applications Engineer\n",
      "=====================\n",
      "Dani      | 30.0\n",
      "Adam      | 15.0\n",
      "\n",
      "Security Engineer\n",
      "=================\n",
      "Dani      | 100.0\n",
      "Adam      | 15.0\n",
      "\n",
      "Electrical Engineer\n",
      "===================\n",
      "Beth      | 100.0\n",
      "Adam      | 0.0\n",
      "\n"
     ]
    }
   ],
   "source": [
    "# View results\n",
    "\n",
    "print(\"Best match for each target\")\n",
    "for profile_id,matches in results['employees_by_target'].items():\n",
    "    print(all_profiles[int(profile_id)])\n",
    "    print(\"=\" * len(all_profiles[int(profile_id)]))\n",
    "    for user_id,m in matches:\n",
    "        print(\"{0:<10}| {1}\".format(all_users[user_id], m))\n",
    "    print()"
   ]
  },
  {
   "cell_type": "code",
   "execution_count": 7,
   "metadata": {},
   "outputs": [
    {
     "name": "stdout",
     "output_type": "stream",
     "text": [
      "Best match for each target\n",
      "Adam\n",
      "====\n",
      "Applications Engineer| 15.0\n",
      "Security Engineer| 15.0\n",
      "Electrical Engineer| 0.0\n",
      "\n",
      "Beth\n",
      "====\n",
      "Electrical Engineer| 100.0\n",
      "Applications Engineer| 0.0\n",
      "Security Engineer| 0.0\n",
      "\n",
      "Chris\n",
      "=====\n",
      "Applications Engineer| 0.0\n",
      "Security Engineer| 0.0\n",
      "Electrical Engineer| 0.0\n",
      "\n",
      "Dani\n",
      "====\n",
      "Security Engineer| 100.0\n",
      "Applications Engineer| 30.0\n",
      "Electrical Engineer| 0.0\n",
      "\n"
     ]
    }
   ],
   "source": [
    "# View results\n",
    "\n",
    "print(\"Best match for each target\")\n",
    "for user_id,matches in results['targets_by_employee'].items():\n",
    "    print(all_users[int(user_id)])\n",
    "    print(\"=\" * len(all_users[int(user_id)]))\n",
    "    for profile_id,m in matches:\n",
    "        print(\"{0:<10}| {1}\".format(all_profiles[profile_id], m))\n",
    "    print()"
   ]
  },
  {
   "cell_type": "code",
   "execution_count": null,
   "metadata": {},
   "outputs": [],
   "source": []
  },
  {
   "cell_type": "code",
   "execution_count": null,
   "metadata": {},
   "outputs": [],
   "source": []
  }
 ],
 "metadata": {
  "kernelspec": {
   "display_name": "Python 3",
   "language": "python",
   "name": "python3"
  },
  "language_info": {
   "codemirror_mode": {
    "name": "ipython",
    "version": 3
   },
   "file_extension": ".py",
   "mimetype": "text/x-python",
   "name": "python",
   "nbconvert_exporter": "python",
   "pygments_lexer": "ipython3",
   "version": "3.6.9"
  }
 },
 "nbformat": 4,
 "nbformat_minor": 2
}
