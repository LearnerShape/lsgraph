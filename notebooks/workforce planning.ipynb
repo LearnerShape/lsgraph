{
 "cells": [
  {
   "cell_type": "markdown",
   "metadata": {},
   "source": [
    "# Workforce planning\n",
    "\n",
    "Job recommendation can be extended across all members of an organisation.\n",
    "\n",
    "The skills of each individual is compared with the skills of each job profile and an optimal set of suggestions returned.\n",
    "\n",
    "This notebook will demonstrate this functionality using the users and profiles created in the setup notebook. If you have not already gone through the setup notebook please do so before running the code below."
   ]
  },
  {
   "cell_type": "code",
   "execution_count": 1,
   "metadata": {},
   "outputs": [],
   "source": [
    "import json\n",
    "import requests\n",
    "\n",
    "# If using the docker-compose file lsgraph will be available on localhost port 5000\n",
    "base_url = \"http://localhost:5000/api/v1/\""
   ]
  },
  {
   "cell_type": "code",
   "execution_count": 2,
   "metadata": {},
   "outputs": [],
   "source": [
    "# Load the credentials set in the setup notebook\n",
    "\n",
    "with open(\"credentials.json\") as fp:\n",
    "    headers = json.load(fp)"
   ]
  },
  {
   "cell_type": "code",
   "execution_count": 3,
   "metadata": {},
   "outputs": [
    {
     "name": "stdout",
     "output_type": "stream",
     "text": [
      "Status code 200\n",
      "Organisation response {'organizations': [{'id': '011509e6-e80f-487d-a5b8-8242b1078055', 'name': 'Test organization'}]}\n"
     ]
    }
   ],
   "source": [
    "# Get organization details\n",
    "\n",
    "r = requests.get(base_url + \"organizations/\", headers=headers)\n",
    "print(\"Status code\", r.status_code)\n",
    "\n",
    "print(\"Organisation response\", r.json())"
   ]
  },
  {
   "cell_type": "code",
   "execution_count": 4,
   "metadata": {},
   "outputs": [],
   "source": [
    "# Get organization ID for the test organisation created during setup\n",
    "assert 'Test organization' in [i['name'] for i in r.json()[\"organizations\"]], \"Organisation not found, run setup notebook\"\n",
    "organization_id = [i for i in r.json()[\"organizations\"] if i[\"name\"] == \"Test organization\"][0][\"id\"]"
   ]
  },
  {
   "cell_type": "code",
   "execution_count": 5,
   "metadata": {},
   "outputs": [
    {
     "name": "stdout",
     "output_type": "stream",
     "text": [
      "Status code 200\n",
      "Response {'users': [{'email': 'Adam@test.local', 'id': '8bd5e6ae-70cd-4afc-9a60-47961ae7a819', 'name': 'Adam', 'profile': '190e60cb-958e-478e-90b5-1b57f908e16c'}, {'email': 'Beth@test.local', 'id': 'ad0ce93b-fad6-4c01-8e5f-2c63d13152cd', 'name': 'Beth', 'profile': '0c15a884-2706-450d-a4c7-42bf9cf53531'}, {'email': 'Chris@test.local', 'id': 'ca1e6a6c-77b1-4ae6-9a06-b214cdc253e0', 'name': 'Chris', 'profile': '621d72d9-d721-4aee-90d6-66abef9bb46f'}, {'email': 'Dani@test.local', 'id': '89c5d4e8-8899-40e5-86f2-fc1f5898eec1', 'name': 'Dani', 'profile': '827a2192-c14c-4d92-b910-93e9e7f07d6a'}]}\n"
     ]
    }
   ],
   "source": [
    "# Get users\n",
    "\n",
    "r = requests.get(base_url + f\"organizations/{organization_id}/users/\", headers=headers)\n",
    "print(\"Status code\", r.status_code)\n",
    "\n",
    "print(\"Response\", r.json())\n",
    "all_users = r.json()"
   ]
  },
  {
   "cell_type": "code",
   "execution_count": 6,
   "metadata": {},
   "outputs": [
    {
     "name": "stdout",
     "output_type": "stream",
     "text": [
      "Status code 200\n"
     ]
    },
    {
     "data": {
      "text/plain": [
       "{'Applications Engineer': 'b117cd55-be55-4a6b-a331-7c2a87ae3f5b',\n",
       " 'Business Intelligence Analyst': '129ece23-acb1-43a9-8832-296e40dd0100',\n",
       " 'Chief Information Security Officer': '1fc0ad92-978d-45d3-88b5-f27406d8ef3f',\n",
       " 'Cloud architect': '0b119dda-6fe7-473d-9917-5d4e4aa35498',\n",
       " 'Computer Hardware Engineers': 'd29f2ce9-966d-4a59-8c3b-896ca810824d',\n",
       " 'Computer and Information Systems Managers': '7b99672e-0496-416b-acaf-d0a48d95db65',\n",
       " 'Data Analyst': 'f1ce01f1-80af-4aa2-9452-61a62f7ba104',\n",
       " 'Data Engineer': '95d1aa39-1e5a-4c94-9d7d-09c33ee1deac',\n",
       " 'Data Scientist': '3763b638-327a-4d18-9b27-ed81c048d565',\n",
       " 'Database Administrators': 'b5e4d422-ede5-40f8-9ee5-7859d0049fb2',\n",
       " 'Database Architects': 'f9a71017-ab02-4585-9aa8-e45d86cfbe99',\n",
       " 'DevOps Engineer': '7e6d39d5-95aa-467f-97e7-5d6c7dd78c4a',\n",
       " 'Electrical Engineer': '0da909b1-beeb-41e0-b5a0-7daf1d72a12e',\n",
       " 'Full stack developer': '38e24e07-9c89-4d2e-bfb3-6beda5c31a63',\n",
       " 'Information Security Analysts': 'd3f13ef9-d327-49c5-9177-e7cc8ff164e7',\n",
       " 'Machine Learning Engineer': 'ffcd31c2-11fa-4fd7-b26e-50b91200836b',\n",
       " 'Machine Learning Researcher': 'd0336c9d-dc1c-40b2-8637-eaa8bda042ac',\n",
       " 'Mobile Developer': '45414810-c68f-4e8d-acec-98ae47eb3ada',\n",
       " 'Product Manager': '1cf9a4eb-59e3-46ff-a0f2-bab36febc216',\n",
       " 'Sales Engineer': '76b1f4fc-506c-4da4-8616-6ee0a6e23afc',\n",
       " 'Security Engineer': '3eb6205c-f7ce-40ea-899f-9e74ec64b49b',\n",
       " 'Software Developers, Applications': '2107fab8-986f-409b-a3db-7e6c9e7efba3',\n",
       " 'Software Engineer': 'efec3e61-c796-4915-be14-ac364a751ddc',\n",
       " 'Software Engineer ML': 'c3400e96-7fd8-404f-a279-575028f34ddf',\n",
       " 'Solutions Architect': 'ff30d5e3-6e8f-4b97-8006-9cc87ff833bc',\n",
       " 'Systems Administrator': '0d088cd2-381a-4e7f-9908-b5a012d487ac',\n",
       " 'Systems Engineer': '8a0f92a1-ff8e-4793-a218-fedcf0f23161',\n",
       " 'UX Designer': '70a23f57-428f-4295-bc71-9273414f8fc1',\n",
       " 'Web Developers': '89f0eff2-cbcd-4251-ba70-86536a046ffd'}"
      ]
     },
     "execution_count": 6,
     "metadata": {},
     "output_type": "execute_result"
    }
   ],
   "source": [
    "# List all profiles for an organisation\n",
    "\n",
    "r = requests.get(base_url + f\"organizations/{organization_id}/profiles/\", headers=headers)\n",
    "print(\"Status code\", r.status_code)\n",
    "\n",
    "#print(\"Response\", r.json())\n",
    "\n",
    "profile_map = {i[\"name\"]:i[\"id\"] for i in r.json()[\"profiles\"]}\n",
    "profile_map"
   ]
  },
  {
   "cell_type": "markdown",
   "metadata": {},
   "source": [
    "## Getting recommendations\n",
    "\n",
    "The workforce planning service expects \n",
    "\n",
    "* a list of users, or\n",
    "* a list of groups to select user from\n",
    "* a list of dictionaries containing target profile IDs, number needed, and a maximum distance\n"
   ]
  },
  {
   "cell_type": "code",
   "execution_count": 7,
   "metadata": {},
   "outputs": [
    {
     "data": {
      "text/plain": [
       "{'targets': [{'max_training': 100,\n",
       "   'number_needed': 2,\n",
       "   'profile': 'b117cd55-be55-4a6b-a331-7c2a87ae3f5b'},\n",
       "  {'max_training': 100,\n",
       "   'number_needed': 2,\n",
       "   'profile': '3eb6205c-f7ce-40ea-899f-9e74ec64b49b'},\n",
       "  {'max_training': 100,\n",
       "   'number_needed': 2,\n",
       "   'profile': '0da909b1-beeb-41e0-b5a0-7daf1d72a12e'}],\n",
       " 'users': ['8bd5e6ae-70cd-4afc-9a60-47961ae7a819',\n",
       "  'ad0ce93b-fad6-4c01-8e5f-2c63d13152cd',\n",
       "  'ca1e6a6c-77b1-4ae6-9a06-b214cdc253e0',\n",
       "  '89c5d4e8-8899-40e5-86f2-fc1f5898eec1']}"
      ]
     },
     "execution_count": 7,
     "metadata": {},
     "output_type": "execute_result"
    }
   ],
   "source": [
    "# Using the 4 users previously created find options for 3 roles each with 2 positions available\n",
    "\n",
    "data = {\"users\": [i[\"id\"] for i in all_users[\"users\"]],\n",
    "        \"targets\":[{\"profile\":profile_map[\"Applications Engineer\"],\n",
    "                            \"number_needed\":2,\n",
    "                            \"max_training\":100},\n",
    "                          {\"profile\":profile_map[\"Security Engineer\"],\n",
    "                            \"number_needed\":2,\n",
    "                            \"max_training\":100},\n",
    "                          {\"profile\":profile_map[\"Electrical Engineer\"],\n",
    "                            \"number_needed\":2,\n",
    "                            \"max_training\":100}],\n",
    "}\n",
    "data"
   ]
  },
  {
   "cell_type": "code",
   "execution_count": 8,
   "metadata": {},
   "outputs": [
    {
     "name": "stdout",
     "output_type": "stream",
     "text": [
      "Status code 200\n"
     ]
    }
   ],
   "source": [
    "r = requests.post(base_url + f\"organizations/{organization_id}/workforce_planning/\", json=data, headers=headers)\n",
    "print(\"Status code\", r.status_code)\n",
    "\n",
    "results = r.json()"
   ]
  },
  {
   "cell_type": "code",
   "execution_count": 9,
   "metadata": {},
   "outputs": [],
   "source": [
    "# Set up to display profile and user names rather than IDs\n",
    "\n",
    "profile_inv_map = {v:k for k,v in profile_map.items()}\n",
    "user_inv_map = {i['id']:i['name'] for i in all_users['users']}"
   ]
  },
  {
   "cell_type": "code",
   "execution_count": 10,
   "metadata": {},
   "outputs": [
    {
     "name": "stdout",
     "output_type": "stream",
     "text": [
      "Best match for each target\n",
      "Applications Engineer\n",
      "=====================\n",
      "Dani      | 14.0\n",
      "Adam      | 17.0\n",
      "Beth      | 20.0\n",
      "Chris     | 20.0\n",
      "\n",
      "Security Engineer\n",
      "=================\n",
      "Dani      | 0.0\n",
      "Adam      | 17.0\n",
      "Beth      | 20.0\n",
      "Chris     | 20.0\n",
      "\n",
      "Electrical Engineer\n",
      "===================\n",
      "Beth      | 0.0\n",
      "Adam      | 33.0\n",
      "Chris     | 33.0\n",
      "Dani      | 33.0\n",
      "\n"
     ]
    }
   ],
   "source": [
    "# View results\n",
    "\n",
    "print(\"Best match for each target\")\n",
    "for best_users in results['users_by_target']:\n",
    "    print(profile_inv_map[best_users['profile']])\n",
    "    print(\"=\" * len(profile_inv_map[best_users['profile']]))\n",
    "    for user in best_users['recommendations']:\n",
    "        user_name = user_inv_map[user['user']]\n",
    "        distance = user['distance']\n",
    "        print(f\"{user_name:<10}| {distance}\")\n",
    "    print()"
   ]
  },
  {
   "cell_type": "code",
   "execution_count": 11,
   "metadata": {},
   "outputs": [
    {
     "name": "stdout",
     "output_type": "stream",
     "text": [
      "Best match for each user\n",
      "Adam\n",
      "====\n",
      "Applications Engineer| 17.0\n",
      "Security Engineer   | 17.0\n",
      "Electrical Engineer | 33.0\n",
      "\n",
      "Beth\n",
      "====\n",
      "Electrical Engineer | 0.0\n",
      "Applications Engineer| 20.0\n",
      "Security Engineer   | 20.0\n",
      "\n",
      "Chris\n",
      "=====\n",
      "Applications Engineer| 20.0\n",
      "Security Engineer   | 20.0\n",
      "Electrical Engineer | 33.0\n",
      "\n",
      "Dani\n",
      "====\n",
      "Security Engineer   | 0.0\n",
      "Applications Engineer| 14.0\n",
      "Electrical Engineer | 33.0\n",
      "\n"
     ]
    }
   ],
   "source": [
    "# View results\n",
    "\n",
    "print(\"Best match for each user\")\n",
    "for best_targets in results['targets_by_user']:\n",
    "    print(user_inv_map[best_targets['user']])\n",
    "    print(\"=\" * len(user_inv_map[best_targets['user']]))\n",
    "    for target in best_targets['recommendations']:\n",
    "        target_name = profile_inv_map[target['profile']]\n",
    "        distance = target['distance']\n",
    "        print(f\"{target_name:<20}| {distance}\")\n",
    "    print()\n",
    "\n"
   ]
  },
  {
   "cell_type": "code",
   "execution_count": null,
   "metadata": {},
   "outputs": [],
   "source": []
  },
  {
   "cell_type": "code",
   "execution_count": null,
   "metadata": {},
   "outputs": [],
   "source": []
  }
 ],
 "metadata": {
  "kernelspec": {
   "display_name": "Python 3",
   "language": "python",
   "name": "python3"
  },
  "language_info": {
   "codemirror_mode": {
    "name": "ipython",
    "version": 3
   },
   "file_extension": ".py",
   "mimetype": "text/x-python",
   "name": "python",
   "nbconvert_exporter": "python",
   "pygments_lexer": "ipython3",
   "version": "3.6.9"
  }
 },
 "nbformat": 4,
 "nbformat_minor": 2
}
