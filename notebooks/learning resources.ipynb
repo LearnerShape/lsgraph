{
 "cells": [
  {
   "cell_type": "markdown",
   "metadata": {},
   "source": [
    "# Learning Resources\n",
    "\n",
    "Learning resources (courses, videos, articles, etc) can be registered with lsgraph. Once a record has been created, appropriate resources for a skill or user can be recommended or discovered through search.\n",
    "\n",
    "This notebook will demonstrate:\n",
    "\n",
    "* creating formats, providers, platforms, resources and offerings \n",
    "* organizing access with groups and collections\n",
    "* finding resources through search and recommendations\n",
    "\n",
    "If you have not already gone through the setup notebook please do so before running the code below."
   ]
  },
  {
   "cell_type": "code",
   "execution_count": 41,
   "metadata": {},
   "outputs": [],
   "source": [
    "from datetime import datetime, timedelta, timezone\n",
    "import json\n",
    "import requests\n",
    "\n",
    "# If using the docker-compose file lsgraph will be available on localhost port 5000\n",
    "base_url = \"http://localhost:5000/api/v1/\""
   ]
  },
  {
   "cell_type": "code",
   "execution_count": 42,
   "metadata": {},
   "outputs": [],
   "source": [
    "# Load the credentials set in the setup notebook\n",
    "\n",
    "with open(\"credentials.json\") as fp:\n",
    "    headers = json.load(fp)"
   ]
  },
  {
   "cell_type": "code",
   "execution_count": 43,
   "metadata": {},
   "outputs": [
    {
     "name": "stdout",
     "output_type": "stream",
     "text": [
      "Status code 200\n",
      "Organisation response {'organizations': [{'id': '6ff857ca-09ba-4ab5-a252-c65ecdc2d2c7', 'name': 'Test organization'}]}\n"
     ]
    }
   ],
   "source": [
    "# Get organization details\n",
    "\n",
    "r = requests.get(base_url + \"organizations/\", headers=headers)\n",
    "print(\"Status code\", r.status_code)\n",
    "\n",
    "print(\"Organisation response\", r.json())"
   ]
  },
  {
   "cell_type": "code",
   "execution_count": 44,
   "metadata": {},
   "outputs": [],
   "source": [
    "# Get organization ID for the test organisation created during setup\n",
    "assert 'Test organization' in [i['name'] for i in r.json()[\"organizations\"]], \"Organisation not found, run setup notebook\"\n",
    "organization_id = [i for i in r.json()[\"organizations\"] if i[\"name\"] == \"Test organization\"][0][\"id\"]"
   ]
  },
  {
   "cell_type": "markdown",
   "metadata": {},
   "source": [
    "## Creating new resources\n",
    "\n",
    "Each resource has a platform and provider. Each resource can have many different offerings (e.g. Spring and Fall semesters). Each offering has a format (e.g. online and classroom based)."
   ]
  },
  {
   "cell_type": "code",
   "execution_count": 45,
   "metadata": {},
   "outputs": [
    {
     "name": "stdout",
     "output_type": "stream",
     "text": [
      "Status code 200\n",
      "{'description': 'The ABC learning platform', 'free_trial': None, 'id': '1866fdfc-7262-4f36-943d-73a5b40495be', 'logo': None, 'name': 'ABC', 'subscription': None, 'url': None}\n"
     ]
    }
   ],
   "source": [
    "# Creating a platform\n",
    "\n",
    "# Additional information can be stored - see documentation or results below\n",
    "data = {\"name\":\"ABC\", \"description\":\"The ABC learning platform\"}\n",
    "\n",
    "r = requests.post(base_url + f\"organizations/{organization_id}/platforms/\", \n",
    "                  json=data, headers=headers)\n",
    "print(\"Status code\", r.status_code)\n",
    "\n",
    "results = r.json()\n",
    "platform_id = results[\"id\"]\n",
    "print(results)"
   ]
  },
  {
   "cell_type": "code",
   "execution_count": 46,
   "metadata": {},
   "outputs": [
    {
     "name": "stdout",
     "output_type": "stream",
     "text": [
      "Status code 200\n",
      "{'description': 'Educational courses from XYZ University', 'id': '9b46cd20-3537-44b0-a7ad-3f30961ac27f', 'logo': None, 'name': 'XYZ University', 'url': None}\n"
     ]
    }
   ],
   "source": [
    "# Creating a provider\n",
    "\n",
    "# Additional information can be stored - see documentation or results below\n",
    "data = {\"name\":\"XYZ University\", \"description\":\"Educational courses from XYZ University\"}\n",
    "\n",
    "r = requests.post(base_url + f\"organizations/{organization_id}/providers/\", \n",
    "                  json=data, headers=headers)\n",
    "print(\"Status code\", r.status_code)\n",
    "\n",
    "results = r.json()\n",
    "provider_id = results[\"id\"]\n",
    "print(results)"
   ]
  },
  {
   "cell_type": "code",
   "execution_count": 47,
   "metadata": {},
   "outputs": [
    {
     "name": "stdout",
     "output_type": "stream",
     "text": [
      "Status code 200\n",
      "{'alt_id': None, 'description': 'This 5 week course will teach you the basics of Python . . .', 'id': '27422f23-b451-4834-bcc4-171399973006', 'learning_outcomes': None, 'name': 'Learn Python', 'offerings': [], 'platform': {'description': 'The ABC learning platform', 'free_trial': None, 'id': '1866fdfc-7262-4f36-943d-73a5b40495be', 'logo': None, 'name': 'ABC', 'subscription': None, 'url': None}, 'platform_level': None, 'prerequisite_knowledge': None, 'provider': {'description': 'Educational courses from XYZ University', 'id': '9b46cd20-3537-44b0-a7ad-3f30961ac27f', 'logo': None, 'name': 'XYZ University', 'url': None}, 'retired': False, 'short_description': 'Get started with this popular programming language', 'syllabus': None, 'url': None}\n"
     ]
    }
   ],
   "source": [
    "# Creating a learning resource\n",
    "\n",
    "# Additional information can be stored - see documentation or results below\n",
    "data = {\"name\":\"Learn Python\", \n",
    "        \"short_description\":\"Get started with this popular programming language\",\n",
    "        \"description\":\"This 5 week course will teach you the basics of Python . . .\",\n",
    "        \"provider\":provider_id,\n",
    "        \"platform\":platform_id,\n",
    "       }\n",
    "\n",
    "r = requests.post(base_url + f\"organizations/{organization_id}/resources/\", \n",
    "                  json=data, headers=headers)\n",
    "print(\"Status code\", r.status_code)\n",
    "\n",
    "results = r.json()\n",
    "resource_id = results[\"id\"]\n",
    "print(results)"
   ]
  },
  {
   "cell_type": "code",
   "execution_count": 48,
   "metadata": {},
   "outputs": [
    {
     "name": "stdout",
     "output_type": "stream",
     "text": [
      "Status code 200\n",
      "{'description': 'Video and online examples available on-demand', 'id': '00af32cf-4fac-4b94-8db3-29c2bf85f94b', 'logo': None, 'name': 'Online'}\n"
     ]
    }
   ],
   "source": [
    "# Create a format\n",
    "\n",
    "# Additional information can be stored - see documentation or results below\n",
    "data = {\"name\":\"Online\", \"description\":\"Video and online examples available on-demand\"}\n",
    "\n",
    "r = requests.post(base_url + f\"organizations/{organization_id}/formats/\", \n",
    "                  json=data, headers=headers)\n",
    "print(\"Status code\", r.status_code)\n",
    "\n",
    "results = r.json()\n",
    "format_id = results[\"id\"]\n",
    "print(results)"
   ]
  },
  {
   "cell_type": "code",
   "execution_count": 49,
   "metadata": {},
   "outputs": [
    {
     "name": "stdout",
     "output_type": "stream",
     "text": [
      "Status code 200\n",
      "{'cc_language': 'en', 'certificate': True, 'elapsed_duration': 3024000.0, 'end_date': '2022-02-15T09:00:00', 'format': {'description': 'Video and online examples available on-demand', 'id': '00af32cf-4fac-4b94-8db3-29c2bf85f94b', 'logo': None, 'name': 'Online'}, 'free': False, 'free_audit': True, 'id': '767fc1e7-5f58-453b-a131-00fc80c0ecd8', 'instructors': 'Dr. Smith', 'language': 'en', 'max_taught_duration': 10.0, 'min_taught_duration': 5.0, 'name': '', 'pace_max_hrs_per_week': 2.0, 'pace_min_hrs_per_week': 1.0, 'pace_num_weeks': 5.0, 'paid': True, 'quality': 4.7, 'retired': False, 'start_date': '2022-01-11T09:00:00'}\n"
     ]
    }
   ],
   "source": [
    "# Create an offering for the new course\n",
    "\n",
    "start_date = datetime(year=2022, month=1, day=11, hour=9, tzinfo=timezone.utc)\n",
    "data = {\n",
    "        \"name\": \"\",\n",
    "        \"format\": format_id,\n",
    "        \"start_date\": start_date.isoformat(),\n",
    "        \"end_date\": (start_date + timedelta(days=5 * 7)).isoformat(),\n",
    "        \"pace_min_hrs_per_week\": 1,\n",
    "        \"pace_max_hrs_per_week\": 2,\n",
    "        \"pace_num_weeks\": 5,\n",
    "        \"elapsed_duration\": 3024000,\n",
    "        \"min_taught_duration\": 5,\n",
    "        \"max_taught_duration\": 10,\n",
    "        \"language\": \"en\",\n",
    "        \"cc_language\": \"en\",\n",
    "        \"free\": False,\n",
    "        \"free_audit\": True,\n",
    "        \"paid\": True,\n",
    "        \"certificate\": True,\n",
    "        \"quality\": 4.7,\n",
    "        \"instructors\": \"Dr. Smith\",\n",
    "        \"retired\": False,\n",
    "    }\n",
    "r = requests.post(base_url + f\"organizations/{organization_id}/resources/{resource_id}/offerings/\", \n",
    "                  json=data, headers=headers)\n",
    "print(\"Status code\", r.status_code)\n",
    "\n",
    "results = r.json()\n",
    "print(results)"
   ]
  },
  {
   "cell_type": "markdown",
   "metadata": {},
   "source": [
    "## Viewing organization resources\n",
    "\n",
    "Resources created by an organization can be can be viewed without personalization for individual users."
   ]
  },
  {
   "cell_type": "code",
   "execution_count": 50,
   "metadata": {},
   "outputs": [
    {
     "name": "stdout",
     "output_type": "stream",
     "text": [
      "Status code 200\n",
      "Resources {'resources': [{'alt_id': None, 'description': 'This 5 week course will teach you the basics of Python . . .', 'id': '27422f23-b451-4834-bcc4-171399973006', 'learning_outcomes': None, 'name': 'Learn Python', 'offerings': [{'cc_language': 'en', 'certificate': True, 'elapsed_duration': 3024000.0, 'end_date': '2022-02-15T09:00:00', 'format': {'description': 'Video and online examples available on-demand', 'id': '00af32cf-4fac-4b94-8db3-29c2bf85f94b', 'logo': None, 'name': 'Online'}, 'free': False, 'free_audit': True, 'id': '767fc1e7-5f58-453b-a131-00fc80c0ecd8', 'instructors': 'Dr. Smith', 'language': 'en', 'max_taught_duration': 10.0, 'min_taught_duration': 5.0, 'name': '', 'pace_max_hrs_per_week': 2.0, 'pace_min_hrs_per_week': 1.0, 'pace_num_weeks': 5.0, 'paid': True, 'quality': 4.7, 'retired': False, 'start_date': '2022-01-11T09:00:00'}], 'platform': {'description': 'The ABC learning platform', 'free_trial': None, 'id': '1866fdfc-7262-4f36-943d-73a5b40495be', 'logo': None, 'name': 'ABC', 'subscription': None, 'url': None}, 'platform_level': None, 'prerequisite_knowledge': None, 'provider': {'description': 'Educational courses from XYZ University', 'id': '9b46cd20-3537-44b0-a7ad-3f30961ac27f', 'logo': None, 'name': 'XYZ University', 'url': None}, 'retired': False, 'short_description': 'Get started with this popular programming language', 'syllabus': None, 'url': None}]}\n"
     ]
    }
   ],
   "source": [
    "r = requests.get(base_url + f\"organizations/{organization_id}/resources/\", headers=headers)\n",
    "print(\"Status code\", r.status_code)\n",
    "\n",
    "print(\"Resources\", r.json())"
   ]
  },
  {
   "cell_type": "markdown",
   "metadata": {},
   "source": [
    "The result includes details on platform, provider, offerings and format\n",
    "\n",
    "## Organizing resource access\n",
    "\n",
    "The resources available to a user when searching or requesting recommendations can be controlled using groups and collections.\n",
    "\n",
    "Users can be added to groups. Resources can be added to collections. Groups and users can be added to collections enabling access to the collection resources."
   ]
  },
  {
   "cell_type": "code",
   "execution_count": 51,
   "metadata": {},
   "outputs": [
    {
     "name": "stdout",
     "output_type": "stream",
     "text": [
      "Status code 200\n",
      "Users {'users': [{'email': 'Adam@test.local', 'id': 'b18385f1-7bed-4b98-a8e0-d3b3e7f3f849', 'name': 'Adam', 'profile': 'b856a23e-bdc2-436c-96ec-4d6d9dc486d3'}, {'email': 'Beth@test.local', 'id': '2af63b72-9a9c-4266-9ca5-00fcbfb007c2', 'name': 'Beth', 'profile': '65e035c9-02ef-4ef8-9c66-29808c1dd565'}, {'email': 'Chris@test.local', 'id': '3945852c-f3bd-45c0-b608-72c449d28387', 'name': 'Chris', 'profile': 'a0ec621d-1acb-4445-8451-29eb7e352ec5'}, {'email': 'Dani@test.local', 'id': '80e6b375-209b-48df-b4b1-55bf16558ea9', 'name': 'Dani', 'profile': 'b35dbf53-8d07-4c6d-8e0e-3deb30556f95'}]}\n"
     ]
    }
   ],
   "source": [
    "# Fetching a user to use in testing\n",
    "\n",
    "r = requests.get(base_url + f\"organizations/{organization_id}/users/\", headers=headers)\n",
    "print(\"Status code\", r.status_code)\n",
    "\n",
    "print(\"Users\", r.json())\n",
    "\n",
    "user_id = r.json()[\"users\"][0][\"id\"]"
   ]
  },
  {
   "cell_type": "code",
   "execution_count": 52,
   "metadata": {},
   "outputs": [
    {
     "name": "stdout",
     "output_type": "stream",
     "text": [
      "Status code 200\n",
      "{'id': 'd1d0990b-6a87-4c7b-8fd7-6f8a9509a7c5', 'members': [], 'name': 'Test group', 'whole_organization': False}\n"
     ]
    }
   ],
   "source": [
    "# Create a group\n",
    "\n",
    "data = {\"name\":\"Test group\",}\n",
    "\n",
    "r = requests.post(base_url + f\"organizations/{organization_id}/groups/\", \n",
    "                  json=data, headers=headers)\n",
    "print(\"Status code\", r.status_code)\n",
    "\n",
    "results = r.json()\n",
    "group_id = results[\"id\"]\n",
    "print(results)"
   ]
  },
  {
   "cell_type": "code",
   "execution_count": 53,
   "metadata": {},
   "outputs": [
    {
     "name": "stdout",
     "output_type": "stream",
     "text": [
      "Status code 200\n",
      "{'members': [{'id': 'b18385f1-7bed-4b98-a8e0-d3b3e7f3f849', 'name': 'Adam'}]}\n"
     ]
    }
   ],
   "source": [
    "# Add our user to the group\n",
    "\n",
    "data = {\"members\":[{\"id\":user_id},]}\n",
    "\n",
    "r = requests.post(base_url + f\"organizations/{organization_id}/groups/{group_id}/members/\", \n",
    "                  json=data, headers=headers)\n",
    "print(\"Status code\", r.status_code)\n",
    "\n",
    "results = r.json()\n",
    "print(results)"
   ]
  },
  {
   "cell_type": "code",
   "execution_count": 54,
   "metadata": {},
   "outputs": [
    {
     "name": "stdout",
     "output_type": "stream",
     "text": [
      "Status code 200\n",
      "{'id': '61297db9-1bf1-4fa2-8821-207e8b632ad6', 'name': 'Test collection', 'public': False}\n"
     ]
    }
   ],
   "source": [
    "# Create a collection\n",
    "\n",
    "data = {\"name\":\"Test collection\",}\n",
    "\n",
    "r = requests.post(base_url + f\"organizations/{organization_id}/collections/\", \n",
    "                  json=data, headers=headers)\n",
    "print(\"Status code\", r.status_code)\n",
    "\n",
    "results = r.json()\n",
    "collection_id = results[\"id\"]\n",
    "print(results)"
   ]
  },
  {
   "cell_type": "code",
   "execution_count": 55,
   "metadata": {},
   "outputs": [
    {
     "name": "stdout",
     "output_type": "stream",
     "text": [
      "Status code 200\n",
      "{'members': [{'edit': False, 'group_id': 'd1d0990b-6a87-4c7b-8fd7-6f8a9509a7c5'}]}\n"
     ]
    }
   ],
   "source": [
    "# Add our group to the collection\n",
    "\n",
    "data = {\"members\":[{\"group_id\":group_id},]}\n",
    "\n",
    "r = requests.post(base_url + f\"organizations/{organization_id}/collections/{collection_id}/members/\", \n",
    "                  json=data, headers=headers)\n",
    "print(\"Status code\", r.status_code)\n",
    "\n",
    "results = r.json()\n",
    "print(results)"
   ]
  },
  {
   "cell_type": "code",
   "execution_count": 56,
   "metadata": {},
   "outputs": [
    {
     "name": "stdout",
     "output_type": "stream",
     "text": [
      "Status code 200\n",
      "Status code 200\n",
      "Status code 200\n",
      "{'resources': [{'resource_id': '1714ff11-07b2-47c5-8cc7-1f498a6bc6b3'}]}\n",
      "Status code 200\n",
      "Status code 200\n",
      "{'resources': [{'resource_id': '140a11ab-fedc-41e0-8ad2-0acecbefa17a'}]}\n"
     ]
    }
   ],
   "source": [
    "# Create resources and add to collection\n",
    "\n",
    "for title in [\"Learn Requests\", \"Learn Flask\", \"Learn Jupyter\"]:\n",
    "    # Creating a minimal resource\n",
    "    data = {\"name\":title, \n",
    "            \"short_description\":\"\",\n",
    "            \"description\":\"\",\n",
    "            \"provider\":provider_id,\n",
    "            \"platform\":platform_id,\n",
    "           }\n",
    "\n",
    "    r = requests.post(base_url + f\"organizations/{organization_id}/resources/\", \n",
    "                      json=data, headers=headers)\n",
    "    print(\"Status code\", r.status_code)\n",
    "    \n",
    "    # Add resource to collection\n",
    "    if title == \"Learn Requests\":\n",
    "        # Skip one resource to test collection filtering\n",
    "        continue\n",
    "    data = {\"resources\":[{\"resource_id\":r.json()[\"id\"]},]}\n",
    "\n",
    "    r = requests.post(base_url + f\"organizations/{organization_id}/collections/{collection_id}/resources/\", \n",
    "                      json=data, headers=headers)\n",
    "    print(\"Status code\", r.status_code)\n",
    "\n",
    "    results = r.json()\n",
    "    print(results)"
   ]
  },
  {
   "cell_type": "markdown",
   "metadata": {},
   "source": [
    "## Search and recommendations for users"
   ]
  },
  {
   "cell_type": "code",
   "execution_count": 61,
   "metadata": {},
   "outputs": [
    {
     "name": "stdout",
     "output_type": "stream",
     "text": [
      "Status code 200\n",
      "Learn Jupyter\n",
      "Learn Flask\n"
     ]
    }
   ],
   "source": [
    "r = requests.get(base_url + f\"organizations/{organization_id}/resources/?user={user_id}\", headers=headers)\n",
    "print(\"Status code\", r.status_code)\n",
    "\n",
    "results = r.json()[\"resources\"]\n",
    "\n",
    "for i in results:\n",
    "    print(i[\"name\"])"
   ]
  },
  {
   "cell_type": "markdown",
   "metadata": {},
   "source": [
    "Only the \"Learn Jupyter\" and \"Learn Flask\" resources are returned.\n",
    "\n",
    "As the \"Learn Requests\" resource is not connected to the user it is not returned."
   ]
  },
  {
   "cell_type": "code",
   "execution_count": 62,
   "metadata": {},
   "outputs": [
    {
     "name": "stdout",
     "output_type": "stream",
     "text": [
      "Status code 200\n",
      "Learn Jupyter\n"
     ]
    }
   ],
   "source": [
    "# Adding search\n",
    "\n",
    "r = requests.get(base_url + f\"organizations/{organization_id}/resources/?user={user_id}&query=Jupyter\", headers=headers)\n",
    "print(\"Status code\", r.status_code)\n",
    "\n",
    "results = r.json()[\"resources\"]\n",
    "\n",
    "for i in results:\n",
    "    print(i[\"name\"])"
   ]
  },
  {
   "cell_type": "code",
   "execution_count": null,
   "metadata": {},
   "outputs": [],
   "source": []
  }
 ],
 "metadata": {
  "kernelspec": {
   "display_name": "Python 3",
   "language": "python",
   "name": "python3"
  },
  "language_info": {
   "codemirror_mode": {
    "name": "ipython",
    "version": 3
   },
   "file_extension": ".py",
   "mimetype": "text/x-python",
   "name": "python",
   "nbconvert_exporter": "python",
   "pygments_lexer": "ipython3",
   "version": "3.6.9"
  }
 },
 "nbformat": 4,
 "nbformat_minor": 2
}
