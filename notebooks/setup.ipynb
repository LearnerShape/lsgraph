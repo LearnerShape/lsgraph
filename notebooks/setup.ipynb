{
 "cells": [
  {
   "cell_type": "markdown",
   "metadata": {},
   "source": [
    "# Setup\n",
    "\n",
    "lsgraph was created with the aim of supporting reskilling and upskilling efforts for both individuals and organisations. lsgraph provides services to: \n",
    "\n",
    "* collect course details and associate with skills, \n",
    "* recommend courses for a learner, \n",
    "* recommend job profiles, \n",
    "* suggest reskilling options across a workforce.\n",
    "\n",
    "This notebook walks through the process of setting up skills graphs, organisations, profiles and users."
   ]
  },
  {
   "cell_type": "code",
   "execution_count": 1,
   "metadata": {},
   "outputs": [],
   "source": [
    "import json\n",
    "import os\n",
    "import pandas as pd\n",
    "import requests\n",
    "\n",
    "# If using the docker-compose file lsgraph will be available on localhost port 5000\n",
    "base_url = \"http://localhost:5000\""
   ]
  },
  {
   "cell_type": "markdown",
   "metadata": {},
   "source": [
    "# Create graph\n",
    "\n",
    "A skills graph is a linked collection of skills that aids navigation and disambiguates skill names with multiple meanings. \n",
    "\n",
    "Within the sample data directory is a graph in nested dictionary format. "
   ]
  },
  {
   "cell_type": "code",
   "execution_count": 2,
   "metadata": {},
   "outputs": [
    {
     "name": "stdout",
     "output_type": "stream",
     "text": [
      "The top level skills are: dict_keys(['personal skills', 'art & design', 'certifications', 'data science', 'software engineering', 'information technology', 'engineering', 'natural sciences', 'languages', 'business & management', 'social sciences', 'mathematics', 'computer science'])\n"
     ]
    }
   ],
   "source": [
    "with open('sample_data/graph.json') as fp:\n",
    "    skill_graph = json.load(fp)\n",
    "    \n",
    "# View top level skills\n",
    "print(\"The top level skills are:\", skill_graph.keys())"
   ]
  },
  {
   "cell_type": "code",
   "execution_count": 3,
   "metadata": {},
   "outputs": [
    {
     "name": "stdout",
     "output_type": "stream",
     "text": [
      "Status code 200\n",
      "Response {'id': 1}\n"
     ]
    }
   ],
   "source": [
    "# Create a new skills graph in lsgraph\n",
    "\n",
    "graph_tag = \"test\"\n",
    "\n",
    "new_graph = {\"name\":\"Test graph\",\n",
    "             \"graph_tag\":graph_tag,\n",
    "             \"description\":\"\",\n",
    "             \"graph\":skill_graph,\n",
    "            }\n",
    "\n",
    "r = requests.post(base_url + \"/api/v1/graphs\", json=new_graph)\n",
    "\n",
    "print(\"Status code\", r.status_code)\n",
    "\n",
    "print(\"Response\", r.json())\n",
    "      \n",
    "graph_id = r.json()[\"id\"]"
   ]
  },
  {
   "cell_type": "code",
   "execution_count": 4,
   "metadata": {},
   "outputs": [
    {
     "name": "stdout",
     "output_type": "stream",
     "text": [
      "Status code 200\n",
      "Response [{'graph_tag': 'test', 'id': 1, 'name': 'Test graph'}]\n"
     ]
    }
   ],
   "source": [
    "# View all graphs\n",
    "\n",
    "r = requests.get(base_url + \"/api/v1/graphs\")\n",
    "print(\"Status code\", r.status_code)\n",
    "\n",
    "print(\"Response\", r.json())"
   ]
  },
  {
   "cell_type": "markdown",
   "metadata": {},
   "source": [
    "Detailed information on a skills graph can be downloaded.\n",
    "\n",
    "This is important for accessing the ids of skills. The same nested dictionary format used to load the skills graph is also returned with the addition of a \\_meta key that contains the id in a dictionary.\n",
    "\n",
    "The skills graph can be duplicated by calling /graphs where the \\_meta key will be ignored."
   ]
  },
  {
   "cell_type": "code",
   "execution_count": 5,
   "metadata": {},
   "outputs": [
    {
     "name": "stdout",
     "output_type": "stream",
     "text": [
      "Status code 200\n"
     ]
    }
   ],
   "source": [
    "r = requests.get(base_url + \"/api/v1/graphs/{0}\".format(graph_id))\n",
    "print(\"Status code\", r.status_code)\n",
    "\n",
    "skill_graph = r.json()[\"graph\"]"
   ]
  },
  {
   "cell_type": "markdown",
   "metadata": {},
   "source": [
    "# Create organisation\n",
    "\n",
    "An organisation is a collection of users that share a skills graph and profiles."
   ]
  },
  {
   "cell_type": "code",
   "execution_count": 6,
   "metadata": {},
   "outputs": [
    {
     "name": "stdout",
     "output_type": "stream",
     "text": [
      "Status code 200\n",
      "Response {'id': 1}\n"
     ]
    }
   ],
   "source": [
    "# Create a new organisation\n",
    "\n",
    "new_org = {\"name\":\"Test organisation\",\n",
    "             \"graph\":graph_tag,\n",
    "            }\n",
    "\n",
    "r = requests.post(base_url + \"/api/v1/organisations\", json=new_org)\n",
    "print(\"Status code\", r.status_code)\n",
    "print(\"Response\", r.json())\n",
    "\n",
    "organisation_id = r.json()[\"id\"]"
   ]
  },
  {
   "cell_type": "code",
   "execution_count": 7,
   "metadata": {},
   "outputs": [
    {
     "name": "stdout",
     "output_type": "stream",
     "text": [
      "Status code 200\n",
      "Response [{'id': 1, 'name': 'Test organisation'}]\n"
     ]
    }
   ],
   "source": [
    "# View all organisations\n",
    "\n",
    "r = requests.get(base_url + \"/api/v1/organisations\")\n",
    "print(\"Status code\", r.status_code)\n",
    "\n",
    "print(\"Response\", r.json())"
   ]
  },
  {
   "cell_type": "code",
   "execution_count": 8,
   "metadata": {},
   "outputs": [
    {
     "name": "stdout",
     "output_type": "stream",
     "text": [
      "Status code 200\n",
      "Response {'created_at': 'Sun, 28 Mar 2021 20:52:44 GMT', 'graph': 'test', 'id': 1, 'name': 'Test organisation', 'updated_at': 'Sun, 28 Mar 2021 20:52:44 GMT'}\n"
     ]
    }
   ],
   "source": [
    "# View more detail on one organisation\n",
    "\n",
    "r = requests.get(base_url + \"/api/v1/organisations/{0}\".format(organisation_id))\n",
    "print(\"Status code\", r.status_code)\n",
    "\n",
    "print(\"Response\", r.json())"
   ]
  },
  {
   "cell_type": "markdown",
   "metadata": {},
   "source": [
    "# Create profiles\n",
    "\n",
    "Profiles are used to collect skills and associate levels.\n",
    "\n",
    "A variety of sample profiles for specific jobs are available"
   ]
  },
  {
   "cell_type": "code",
   "execution_count": 9,
   "metadata": {},
   "outputs": [],
   "source": [
    "# Load sample data\n",
    "\n",
    "profile_dir = 'sample_data/profiles/'\n",
    "\n",
    "level_map = {'B':'beginner','I':'intermediate','A':'advanced','E':'expert'}\n",
    "\n",
    "def skill_id_map(graph, path):\n",
    "    if len(path) == 1:\n",
    "        return graph[path[0]]['_meta']['id']\n",
    "    return skill_id_map(graph[path[0]], path[1:])\n",
    "\n",
    "profiles = {}\n",
    "\n",
    "for fn in os.listdir(profile_dir):\n",
    "    profile_name = fn[:-len('.skills.csv')]\n",
    "    data = pd.read_csv(os.path.join(profile_dir, fn), header=None)\n",
    "    profile_competences = {}\n",
    "    for _,competence in data.iterrows():\n",
    "        level = competence[0]\n",
    "        path=[i for i in competence[1:].tolist() if isinstance(i, str)]\n",
    "        skill_id = skill_id_map(skill_graph, path)\n",
    "        profile_competences[skill_id] = level_map[level]\n",
    "    profiles[profile_name] = profile_competences"
   ]
  },
  {
   "cell_type": "code",
   "execution_count": 10,
   "metadata": {
    "scrolled": true
   },
   "outputs": [
    {
     "name": "stdout",
     "output_type": "stream",
     "text": [
      "Creating profile Applications Engineer\n",
      "Creating profile Data Scientist\n",
      "Creating profile Computer and Information Systems Managers\n",
      "Creating profile Web Developers\n",
      "Creating profile Software Engineer\n",
      "Creating profile Software Engineer ML\n",
      "Creating profile Systems Engineer\n",
      "Creating profile DevOps Engineer\n",
      "Creating profile Machine Learning Researcher\n",
      "Creating profile Business Intelligence Analyst\n",
      "Creating profile Software Developers, Applications\n",
      "Creating profile Cloud architect\n",
      "Creating profile Sales Engineer\n",
      "Creating profile Database Administrators\n",
      "Creating profile Security Engineer\n",
      "Creating profile Computer Hardware Engineers\n",
      "Creating profile Data Engineer\n",
      "Creating profile Product Manager\n",
      "Creating profile UX Designer\n",
      "Creating profile Solutions Architect\n",
      "Creating profile Mobile Developer\n",
      "Creating profile Machine Learning Engineer\n",
      "Creating profile Information Security Analysts\n",
      "Creating profile Data Analyst\n",
      "Creating profile Full stack developer\n",
      "Creating profile Systems Administrator\n",
      "Creating profile Electrical Engineer\n",
      "Creating profile Database Architects\n",
      "Creating profile Chief Information Security Officer\n"
     ]
    }
   ],
   "source": [
    "# Load all profiles\n",
    "\n",
    "for profile_name, competences in profiles.items():\n",
    "    print(\"Creating profile\", profile_name)\n",
    "    new_profile = {\"name\":profile_name,\n",
    "                   \"competences\":competences\n",
    "                  }\n",
    "    r = requests.post(base_url + \"/api/v1/organisations/{0}/profiles\".format(organisation_id), json=new_profile)\n",
    "    if r.status_code != 200:\n",
    "        print(\"Status code\", r.status_code)\n",
    "        print(\"Error with\", profile_name)\n",
    "        break"
   ]
  },
  {
   "cell_type": "code",
   "execution_count": 11,
   "metadata": {},
   "outputs": [
    {
     "name": "stdout",
     "output_type": "stream",
     "text": [
      "Status code 200\n",
      "Response [{'id': 1, 'name': 'Applications Engineer'}, {'id': 2, 'name': 'Data Scientist'}, {'id': 3, 'name': 'Computer and Information Systems Managers'}, {'id': 4, 'name': 'Web Developers'}, {'id': 5, 'name': 'Software Engineer'}, {'id': 6, 'name': 'Software Engineer ML'}, {'id': 7, 'name': 'Systems Engineer'}, {'id': 8, 'name': 'DevOps Engineer'}, {'id': 9, 'name': 'Machine Learning Researcher'}, {'id': 10, 'name': 'Business Intelligence Analyst'}, {'id': 11, 'name': 'Software Developers, Applications'}, {'id': 12, 'name': 'Cloud architect'}, {'id': 13, 'name': 'Sales Engineer'}, {'id': 14, 'name': 'Database Administrators'}, {'id': 15, 'name': 'Security Engineer'}, {'id': 16, 'name': 'Computer Hardware Engineers'}, {'id': 17, 'name': 'Data Engineer'}, {'id': 18, 'name': 'Product Manager'}, {'id': 19, 'name': 'UX Designer'}, {'id': 20, 'name': 'Solutions Architect'}, {'id': 21, 'name': 'Mobile Developer'}, {'id': 22, 'name': 'Machine Learning Engineer'}, {'id': 23, 'name': 'Information Security Analysts'}, {'id': 24, 'name': 'Data Analyst'}, {'id': 25, 'name': 'Full stack developer'}, {'id': 26, 'name': 'Systems Administrator'}, {'id': 27, 'name': 'Electrical Engineer'}, {'id': 28, 'name': 'Database Architects'}, {'id': 29, 'name': 'Chief Information Security Officer'}]\n"
     ]
    }
   ],
   "source": [
    "# List all profiles for an organisation\n",
    "\n",
    "r = requests.get(base_url + \"/api/v1/organisations/{0}/profiles\".format(organisation_id))\n",
    "print(\"Status code\", r.status_code)\n",
    "\n",
    "print(\"Response\", r.json())"
   ]
  },
  {
   "cell_type": "markdown",
   "metadata": {},
   "source": [
    "# Create users"
   ]
  },
  {
   "cell_type": "code",
   "execution_count": 12,
   "metadata": {},
   "outputs": [
    {
     "name": "stdout",
     "output_type": "stream",
     "text": [
      "Creating user Adam\n",
      "Status code 200\n",
      "Response {'id': 1}\n",
      "Creating user Beth\n",
      "Status code 200\n",
      "Response {'id': 2}\n",
      "Creating user Chris\n",
      "Status code 200\n",
      "Response {'id': 3}\n",
      "Creating user Dani\n",
      "Status code 200\n",
      "Response {'id': 4}\n"
     ]
    }
   ],
   "source": [
    "# Create four users with the competences associated with a job profile\n",
    "\n",
    "users = [(\"Adam\", profiles[\"Data Engineer\"]), \n",
    "         (\"Beth\", profiles[\"Electrical Engineer\"]), \n",
    "         (\"Chris\", profiles[\"Mobile Developer\"]), \n",
    "         (\"Dani\", profiles[\"Security Engineer\"])]\n",
    "\n",
    "for user,competences in users:\n",
    "    print(\"Creating user\", user)\n",
    "    new_user = {\"email\":\"{0}@test.local\".format(user),\n",
    "                \"name\":user,\n",
    "                \"graph\":graph_tag,\n",
    "                \"competences\":competences\n",
    "               }\n",
    "    r = requests.post(base_url + \"/api/v1/organisations/{0}/users\".format(organisation_id), json=new_user)\n",
    "    print(\"Status code\", r.status_code)\n",
    "    print(\"Response\", r.json())"
   ]
  },
  {
   "cell_type": "code",
   "execution_count": 13,
   "metadata": {},
   "outputs": [
    {
     "name": "stdout",
     "output_type": "stream",
     "text": [
      "Status code 200\n",
      "Response [{'id': 1, 'name': 'Adam'}, {'id': 2, 'name': 'Beth'}, {'id': 3, 'name': 'Chris'}, {'id': 4, 'name': 'Dani'}]\n"
     ]
    }
   ],
   "source": [
    "# List all users for an organisation\n",
    "\n",
    "r = requests.get(base_url + \"/api/v1/organisations/{0}/users\".format(organisation_id))\n",
    "print(\"Status code\", r.status_code)\n",
    "\n",
    "print(\"Response\", r.json())"
   ]
  },
  {
   "cell_type": "code",
   "execution_count": null,
   "metadata": {},
   "outputs": [],
   "source": []
  },
  {
   "cell_type": "code",
   "execution_count": null,
   "metadata": {},
   "outputs": [],
   "source": []
  },
  {
   "cell_type": "code",
   "execution_count": null,
   "metadata": {},
   "outputs": [],
   "source": []
  },
  {
   "cell_type": "code",
   "execution_count": null,
   "metadata": {},
   "outputs": [],
   "source": []
  }
 ],
 "metadata": {
  "kernelspec": {
   "display_name": "Python 3",
   "language": "python",
   "name": "python3"
  },
  "language_info": {
   "codemirror_mode": {
    "name": "ipython",
    "version": 3
   },
   "file_extension": ".py",
   "mimetype": "text/x-python",
   "name": "python",
   "nbconvert_exporter": "python",
   "pygments_lexer": "ipython3",
   "version": "3.6.9"
  }
 },
 "nbformat": 4,
 "nbformat_minor": 2
}
