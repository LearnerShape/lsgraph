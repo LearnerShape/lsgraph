{
 "cells": [
  {
   "cell_type": "markdown",
   "metadata": {},
   "source": [
    "# Setup\n",
    "\n",
    "lsgraph was created with the aim of supporting reskilling and upskilling efforts for both individuals and organisations. lsgraph provides services to: \n",
    "\n",
    "* collect course details and associate with skills, \n",
    "* recommend courses for a learner, \n",
    "* recommend job profiles, \n",
    "* suggest reskilling options across a workforce.\n",
    "\n",
    "This notebook walks through the process of setting up skills graphs, organisations, profiles and users."
   ]
  },
  {
   "cell_type": "code",
   "execution_count": 26,
   "metadata": {},
   "outputs": [],
   "source": [
    "import json\n",
    "import os\n",
    "import pandas as pd\n",
    "import requests\n",
    "\n",
    "# If using the docker-compose file lsgraph will be available on localhost port 5000\n",
    "base_url = \"http://localhost:5000/api/v1\""
   ]
  },
  {
   "cell_type": "markdown",
   "metadata": {},
   "source": [
    "# Create graph\n",
    "\n",
    "A skills graph is a linked collection of skills that aids navigation and disambiguates skill names with multiple meanings. \n",
    "\n",
    "Within the sample data directory is a graph in nested dictionary format. "
   ]
  },
  {
   "cell_type": "code",
   "execution_count": 13,
   "metadata": {},
   "outputs": [
    {
     "name": "stdout",
     "output_type": "stream",
     "text": [
      "The top level skills are: dict_keys(['personal skills', 'art & design', 'certifications', 'data science', 'software engineering', 'information technology', 'engineering', 'natural sciences', 'languages', 'business & management', 'social sciences', 'mathematics', 'computer science'])\n"
     ]
    }
   ],
   "source": [
    "with open('sample_data/graph.json') as fp:\n",
    "    skill_graph = json.load(fp)\n",
    "    \n",
    "# View top level skills\n",
    "print(\"The top level skills are:\", skill_graph.keys())"
   ]
  },
  {
   "cell_type": "code",
   "execution_count": 14,
   "metadata": {},
   "outputs": [
    {
     "name": "stdout",
     "output_type": "stream",
     "text": [
      "Status code 200\n",
      "Response {'id': 1}\n"
     ]
    }
   ],
   "source": [
    "# Create a new skills graph in lsgraph\n",
    "\n",
    "graph_tag = \"test\"\n",
    "\n",
    "new_graph = {\"name\":\"Test graph\",\n",
    "             \"graph_tag\":graph_tag,\n",
    "             \"description\":\"\",\n",
    "             \"graph\":skill_graph,\n",
    "            }\n",
    "\n",
    "r = requests.post(base_url + \"/graphs\", json=new_graph)\n",
    "\n",
    "print(\"Status code\", r.status_code)\n",
    "\n",
    "print(\"Response\", r.json())\n",
    "      \n",
    "graph_id = r.json()[\"id\"]"
   ]
  },
  {
   "cell_type": "code",
   "execution_count": 15,
   "metadata": {},
   "outputs": [
    {
     "name": "stdout",
     "output_type": "stream",
     "text": [
      "Status code 200\n",
      "Response [{'graph_tag': 'test', 'id': 1, 'name': 'Test graph'}]\n"
     ]
    }
   ],
   "source": [
    "# View all graphs\n",
    "\n",
    "r = requests.get(base_url + \"/graphs\")\n",
    "print(\"Status code\", r.status_code)\n",
    "\n",
    "print(\"Response\", r.json())"
   ]
  },
  {
   "cell_type": "markdown",
   "metadata": {},
   "source": [
    "Detailed information on a skills graph can be downloaded.\n",
    "\n",
    "This is important for accessing the ids of skills. The same nested dictionary format used to load the skills graph is also returned with the addition of a \\_meta key that contains the id in a dictionary.\n",
    "\n",
    "The skills graph can be duplicated by calling /graphs where the \\_meta key will be ignored."
   ]
  },
  {
   "cell_type": "code",
   "execution_count": 16,
   "metadata": {},
   "outputs": [
    {
     "name": "stdout",
     "output_type": "stream",
     "text": [
      "Status code 200\n",
      "Response {'created_at': 'Tue, 10 Nov 2020 18:57:05 GMT', 'description': '', 'graph': {'art & design': {'_meta': {'id': 29}, 'craft': {'_meta': {'id': 30}}, 'graphic design': {'_meta': {'id': 31}}, 'spatial design': {'_meta': {'id': 32}, 'exhibition design': {'_meta': {'id': 33}}, 'set design': {'_meta': {'id': 34}}}, 'typography': {'_meta': {'id': 35}}, 'web design': {'_meta': {'id': 36}, 'responsive design': {'_meta': {'id': 37}}, 'wireframing': {'_meta': {'id': 38}}}}, 'business & management': {'_meta': {'id': 374}, 'finance': {'_meta': {'id': 375}}, 'innovation': {'_meta': {'id': 376}}, 'marketing': {'_meta': {'id': 378}}, 'project management': {'_meta': {'id': 377}}, 'sales': {'_meta': {'id': 379}}}, 'certifications': {'BSc': {'_meta': {'id': 70}, 'computer science': {'_meta': {'id': 71}}}, 'IT': {'CompTIA A+': {'_meta': {'id': 41}}, 'MCSA Solutions Associate': {'_meta': {'id': 42}}, 'MCSA: Windows Server 2012': {'_meta': {'id': 43}}, 'MCSE Solutions Expert': {'_meta': {'id': 44}}, 'Microsoft Azure': {'AZ-900': {'_meta': {'id': 46}}, '_meta': {'id': 45}}, 'Salesforce Platform App Builder': {'_meta': {'id': 47}}, '_meta': {'id': 40}}, 'IT management': {'COBIT5': {'Assessor': {'_meta': {'id': 50}}, 'Foundation': {'_meta': {'id': 51}}, '_meta': {'id': 49}}, 'ITIL': {'Foundation': {'_meta': {'id': 53}}, 'Practitioner': {'_meta': {'id': 54}}, '_meta': {'id': 52}}, 'VMWare': {'VMWare Certified Associate': {'_meta': {'id': 56}}, '_meta': {'id': 55}}, '_meta': {'id': 48}}, '_meta': {'id': 39}, 'project management': {'M_o_R': {'_meta': {'id': 58}}, 'MoP': {'Foundation': {'_meta': {'id': 60}}, 'Practitioner': {'_meta': {'id': 61}}, '_meta': {'id': 59}}, 'PRINCE2': {'Foundation': {'_meta': {'id': 63}}, 'Practitioner': {'_meta': {'id': 64}}, '_meta': {'id': 62}}, 'Six Sigma': {'Black Belt': {'_meta': {'id': 69}}, 'Green Belt': {'_meta': {'id': 68}}, 'White Belt': {'_meta': {'id': 66}}, 'Yellow Belt': {'_meta': {'id': 67}}, '_meta': {'id': 65}}, '_meta': {'id': 57}}}, 'computer science': {'_meta': {'id': 397}, 'algorithmics': {'_meta': {'id': 398}, 'complexity': {'_meta': {'id': 399}}}, 'algorithms': {'_meta': {'id': 400}}, 'artificial intelligence': {'_meta': {'id': 401}}, 'blockchain': {'_meta': {'id': 402}}, 'data structures': {'_meta': {'id': 403}}, 'object-oriented programming': {'_meta': {'id': 404}}, 'operating systems': {'_meta': {'id': 405}, 'memory management': {'_meta': {'id': 406}}}, 'reactive systems': {'_meta': {'id': 407}}}, 'data science': {'_meta': {'id': 72}, 'artificial intelligence': {'_meta': {'id': 135}}, 'data cleaning': {'_meta': {'id': 136}, 'extract, transform and load': {'_meta': {'id': 137}}}, 'data visualization': {'_meta': {'id': 73}}, 'deep learning': {'_meta': {'id': 128}, 'neural networks': {'_meta': {'id': 129}, 'convolutional neural networks': {'_meta': {'id': 131}}, 'feedforward neotworks': {'_meta': {'id': 130}}, 'recurrent neural networks': {'_meta': {'id': 132}, 'long short term memory': {'_meta': {'id': 133}}}}, 'transfer learning': {'_meta': {'id': 134}}}, 'expert systems': {'_meta': {'id': 151}}, 'libraries': {'Apache Spark': {'_meta': {'id': 149}}, 'Hadoop': {'_meta': {'id': 148}}, 'NLTK': {'_meta': {'id': 145}}, '_meta': {'id': 138}, 'jupyter': {'_meta': {'id': 150}}, 'luigi': {'_meta': {'id': 147}}, 'numpy': {'_meta': {'id': 139}}, 'pandas': {'_meta': {'id': 141}}, 'pytorch': {'_meta': {'id': 143}}, 'scikit-learn': {'_meta': {'id': 142}}, 'scipy': {'_meta': {'id': 140}}, 'seaborn': {'_meta': {'id': 146}}, 'tensorflow': {'_meta': {'id': 144}}}, 'machine learning': {'_meta': {'id': 76}, 'density estimation': {'_meta': {'id': 114}}, 'embedding': {'_meta': {'id': 115}, 't-SNE': {'_meta': {'id': 116}}}, 'feature engineering': {'_meta': {'id': 101}, 'basis function': {'_meta': {'id': 109}}, 'binning': {'_meta': {'id': 112}}, 'discretization': {'_meta': {'id': 113}}, 'image-based features': {'HOG': {'_meta': {'id': 108}}, '_meta': {'id': 107}}, 'one-hot encoding': {'_meta': {'id': 111}}, 'scaling': {'_meta': {'id': 110}}, 'text based features': {'TF-IDF': {'_meta': {'id': 104}}, '_meta': {'id': 102}, 'bag-of-words': {'_meta': {'id': 103}}, 'stemming': {'_meta': {'id': 106}}, 'tokenization': {'_meta': {'id': 105}}}}, 'hyperparameter tuning': {'_meta': {'id': 100}}, 'manifold': {'IsoMap': {'_meta': {'id': 120}}, 'LLE': {'_meta': {'id': 119}}, 'MDS': {'_meta': {'id': 118}}, '_meta': {'id': 117}}, 'reinforcement learning': {'_meta': {'id': 121}}, 'semi-supervised learning': {'_meta': {'id': 99}}, 'supervised learning': {'_meta': {'id': 77}, 'classification': {'Naive Bayes': {'Gaussian': {'_meta': {'id': 85}}, '_meta': {'id': 84}, 'multinomial': {'_meta': {'id': 86}}}, '_meta': {'id': 83}, 'logistic regression': {'_meta': {'id': 88}}, 'support vector machine': {'_meta': {'id': 87}}}, 'ensemble methods': {'_meta': {'id': 89}, 'bagging': {'_meta': {'id': 92}}, 'boosting': {'_meta': {'id': 91}}, 'random forests': {'_meta': {'id': 90}}}, 'regression': {'_meta': {'id': 78}, 'lasso': {'_meta': {'id': 81}}, 'linear': {'_meta': {'id': 79}}, 'ridge': {'_meta': {'id': 80}}, 'support vector regression': {'_meta': {'id': 82}}}}, 'unsupervised learning': {'_meta': {'id': 93}, 'clustering': {'_meta': {'id': 98}}, 'dimensionality reduction': {'_meta': {'id': 94}, 'factor analysis': {'_meta': {'id': 96}}, 'multidimensional scaling': {'_meta': {'id': 97}}, 'principal component analysis': {'_meta': {'id': 95}}}}, 'validation': {'_meta': {'id': 122}, 'bias-variance tradeoff': {'_meta': {'id': 127}}, 'cross-validation': {'_meta': {'id': 123}}, 'grid search': {'_meta': {'id': 126}}, 'k-fold cross-validation': {'_meta': {'id': 124}}, 'leave-one-out cross-validation': {'_meta': {'id': 125}}}}, 'natural language processing': {'_meta': {'id': 74}}, 'predictive analytics': {'_meta': {'id': 75}}, 'probabilistic methods': {'_meta': {'id': 152}}}, 'engineering': {'_meta': {'id': 347}, 'aerospace engineering': {'_meta': {'id': 355}}, 'chemical engineering': {'_meta': {'id': 348}}, 'civil engineering': {'_meta': {'id': 349}}, 'electrical engineering': {'_meta': {'id': 350}, 'analog electronics': {'_meta': {'id': 351}}, 'circuits': {'_meta': {'id': 352}}, 'digital electronics': {'_meta': {'id': 353}}}, 'marine engineering': {'_meta': {'id': 356}}, 'mechanical engineering': {'_meta': {'id': 354}}, 'systems engineering': {'_meta': {'id': 357}}}, 'information technology': {'IT management': {'_meta': {'id': 301}, 'agile': {'_meta': {'id': 305}}, 'cloud': {'_meta': {'id': 302}}, 'compliance': {'Data Protection Act': {'_meta': {'id': 308}}, 'GDPR': {'_meta': {'id': 307}}, 'ISO27001': {'_meta': {'id': 309}}, 'ISO9001': {'_meta': {'id': 310}}, 'PCI-DSS': {'_meta': {'id': 311}}, '_meta': {'id': 306}}, 'disaster recovery': {'_meta': {'id': 312}}, 'governance': {'_meta': {'id': 303}, 'policies': {'_meta': {'id': 304}}}}, '_meta': {'id': 259}, 'administration': {'Microsoft': {'Active Directory': {'_meta': {'id': 343}}, 'Group Policy': {'_meta': {'id': 344}}, '_meta': {'id': 342}}, '_meta': {'id': 339}, 'automation': {'_meta': {'id': 346}}, 'database': {'_meta': {'id': 340}}, 'monitoring': {'_meta': {'id': 345}}, 'server': {'_meta': {'id': 341}}}, 'applications': {'Salesforce': {'Lightning Experience': {'_meta': {'id': 282}}, 'Salesforce Classic': {'_meta': {'id': 283}}, 'Salesforce Connect': {'_meta': {'id': 284}}, '_meta': {'id': 281}}, '_meta': {'id': 260}, 'analysis': {'Microsoft Power BI': {'_meta': {'id': 295}}, 'SAP': {'SAP BI': {'_meta': {'id': 294}}, '_meta': {'id': 293}}, 'Tableau': {'_meta': {'id': 291}}, '_meta': {'id': 290}, 'matlab': {'_meta': {'id': 292}}}, 'databases': {'NoSQL': {'Firestore': {'_meta': {'id': 277}}, 'MongoDB': {'_meta': {'id': 275}}, 'Teradata': {'_meta': {'id': 278}}, '_meta': {'id': 274}, 'redis': {'_meta': {'id': 276}}}, 'SQL': {'Microsoft SQL Server': {'_meta': {'id': 273}}, 'MySQL': {'_meta': {'id': 270}}, 'Oracle': {'_meta': {'id': 272}}, 'Postgresql': {'_meta': {'id': 271}}, '_meta': {'id': 269}}, '_meta': {'id': 268}, 'graph': {'Neo4j': {'_meta': {'id': 280}}, '_meta': {'id': 279}}}, 'geographic information system (GIS)': {'ArcGIS': {'_meta': {'id': 289}}, 'Leaflet': {'_meta': {'id': 287}}, 'PostGIS': {'_meta': {'id': 286}}, 'QGIS': {'_meta': {'id': 288}}, '_meta': {'id': 285}}, 'office': {'Microsoft Dynamics 365': {'_meta': {'id': 266}}, 'Microsoft Office 365': {'Microsoft Excel': {'_meta': {'id': 264}}, 'Microsoft Powerpoint': {'_meta': {'id': 265}}, 'Microsoft Word': {'_meta': {'id': 263}}, '_meta': {'id': 262}}, '_meta': {'id': 261}, 'prezi': {'_meta': {'id': 267}}}}, 'hardware': {'Internet-of-Things': {'_meta': {'id': 298}}, 'PID controllers': {'_meta': {'id': 300}}, '_meta': {'id': 296}, 'human-machine interface': {'_meta': {'id': 297}}, 'programmable logic controllers': {'_meta': {'id': 299}}}, 'infrastructure': {'_meta': {'id': 313}, 'networking': {'_meta': {'id': 314}}}, 'infrastruture-as-a-service': {'Amazon AWS': {'_meta': {'id': 335}}, 'Google Cloud Platform': {'_meta': {'id': 337}}, 'Heroku': {'_meta': {'id': 338}}, 'Microsoft Azure': {'_meta': {'id': 336}}, '_meta': {'id': 334}}, 'mobile': {'_meta': {'id': 315}}, 'operating system topics': {'_meta': {'id': 323}, 'access control': {'_meta': {'id': 324}}, 'pipes': {'_meta': {'id': 325}}, 'shell scripts': {'_meta': {'id': 326}}}, 'operating systems': {'Android': {'_meta': {'id': 317}}, 'Linux': {'_meta': {'id': 319}}, 'Microsoft Windows': {'_meta': {'id': 322}}, 'OSX': {'_meta': {'id': 320}}, 'Unix': {'_meta': {'id': 321}}, '_meta': {'id': 316}, 'iOS': {'_meta': {'id': 318}}}, 'security': {'Active Directory': {'_meta': {'id': 328}}, '_meta': {'id': 327}, 'auditing': {'_meta': {'id': 332}}, 'cybersecurity': {'_meta': {'id': 331}}, 'firewalls': {'_meta': {'id': 329}}, 'malware': {'_meta': {'id': 333}}, 'penetration testing': {'_meta': {'id': 330}}}}, 'languages': {'English': {'_meta': {'id': 367}}, 'French': {'_meta': {'id': 368}}, 'German': {'_meta': {'id': 369}}, 'Greek': {'_meta': {'id': 370}}, 'Italian': {'_meta': {'id': 371}}, 'Portuguese': {'_meta': {'id': 372}}, 'Spanish': {'_meta': {'id': 373}}, '_meta': {'id': 366}}, 'mathematics': {'_meta': {'id': 392}, 'algebra': {'_meta': {'id': 393}}, 'calculus': {'_meta': {'id': 394}}, 'differential equations': {'_meta': {'id': 395}}, 'probability': {'_meta': {'id': 396}}}, 'natural sciences': {'_meta': {'id': 358}, 'astronomy': {'_meta': {'id': 364}}, 'biology': {'_meta': {'id': 359}}, 'chemistry': {'_meta': {'id': 360}}, 'earth science': {'_meta': {'id': 365}}, 'physics': {'_meta': {'id': 361}, 'electricity': {'_meta': {'id': 362}}, 'magnetism': {'_meta': {'id': 363}}}}, 'personal skills': {'_meta': {'id': 2}, 'hobbies': {'_meta': {'id': 27}}, 'home maintenance': {'_meta': {'id': 28}}, 'personal finance': {'_meta': {'id': 25}}, 'soft skills': {'_meta': {'id': 3}, 'collaboration/teamwork': {'_meta': {'id': 4}}, 'communication': {'_meta': {'id': 5}, 'writing': {'_meta': {'id': 6}}}, 'creativity': {'_meta': {'id': 7}}, 'critical thinking': {'_meta': {'id': 8}}, 'detail orientation': {'_meta': {'id': 9}}, 'ethics': {'_meta': {'id': 10}}, 'forecasting': {'_meta': {'id': 11}}, 'independence': {'_meta': {'id': 12}}, 'leadership': {'_meta': {'id': 13}}, 'logical reasoning': {'_meta': {'id': 14}}, 'memorisation': {'_meta': {'id': 15}}, 'negotiation': {'_meta': {'id': 16}}, 'networking': {'_meta': {'id': 17}}, 'organisation': {'_meta': {'id': 18}}, 'presentation': {'_meta': {'id': 19}}, 'problem-solving': {'_meta': {'id': 20}}, 'project management': {'_meta': {'id': 21}}, 'resilience': {'_meta': {'id': 22}}, 'strategic planning': {'_meta': {'id': 23}}, 'stress management': {'_meta': {'id': 24}}}, 'sports': {'_meta': {'id': 26}}}, 'social sciences': {'Anthropology': {'_meta': {'id': 381}}, 'Communication studies': {'_meta': {'id': 382}}, 'Economics': {'_meta': {'id': 383}}, 'Education': {'_meta': {'id': 384}}, 'Geography': {'_meta': {'id': 385}}, 'History': {'_meta': {'id': 386}}, 'Law': {'_meta': {'id': 387}}, 'Linguistics': {'_meta': {'id': 388}}, 'Political science': {'_meta': {'id': 389}}, 'Psychology': {'_meta': {'id': 390}}, 'Sociology': {'_meta': {'id': 391}}, '_meta': {'id': 380}}, 'software engineering': {'_meta': {'id': 153}, 'algorithms': {'_meta': {'id': 161}, 'analysis': {'_meta': {'id': 163}}, 'design': {'_meta': {'id': 162}}}, 'application design': {'_meta': {'id': 154}, 'business applications': {'_meta': {'id': 159}}, 'consumer applications': {'_meta': {'id': 160}}, 'user experience design': {'A/B testing': {'_meta': {'id': 156}}, '_meta': {'id': 155}}, 'user interface design': {'_meta': {'id': 157}}, 'user needs assessment': {'_meta': {'id': 158}}}, 'frameworks': {'Java': {'Hibernate': {'_meta': {'id': 251}}, 'Spring': {'_meta': {'id': 252}}, '_meta': {'id': 250}}, 'Javascript': {'AngularJS': {'_meta': {'id': 243}}, 'React': {'_meta': {'id': 239}}, '_meta': {'id': 238}, 'jquery': {'_meta': {'id': 241}}, 'leaflet': {'_meta': {'id': 242}}, 'vue.js': {'_meta': {'id': 240}}}, 'PHP': {'CodeIgniter': {'_meta': {'id': 234}}, 'Laravel': {'_meta': {'id': 235}}, 'PHP MVC': {'_meta': {'id': 236}}, 'Symfony': {'_meta': {'id': 237}}, '_meta': {'id': 233}}, 'Python': {'_meta': {'id': 246}, 'django': {'_meta': {'id': 247}}, 'flask': {'_meta': {'id': 248}}, 'pyramid': {'_meta': {'id': 249}}}, 'Ruby': {'Ruby on Rails': {'_meta': {'id': 254}}, '_meta': {'id': 253}}, '_meta': {'id': 232}, 'node.js': {'Express': {'_meta': {'id': 245}}, '_meta': {'id': 244}}}, 'hardware': {'FPGA': {'_meta': {'id': 198}}, '_meta': {'id': 190}, 'design': {'_meta': {'id': 191}}, 'embedded systems': {'_meta': {'id': 200}}, 'fault-finding': {'_meta': {'id': 192}}, 'microcontrollers': {'Arduino': {'_meta': {'id': 197}}, '_meta': {'id': 196}}, 'sensors': {'_meta': {'id': 193}}, 'single board computers': {'Raspberry Pi': {'_meta': {'id': 195}}, '_meta': {'id': 194}}, 'verification': {'_meta': {'id': 199}}}, 'languages': {'Assembly language': {'_meta': {'id': 202}}, 'Bash': {'_meta': {'id': 203}}, 'C': {'_meta': {'id': 204}}, 'C#': {'_meta': {'id': 205}}, 'C++': {'_meta': {'id': 206}}, 'CSS': {'_meta': {'id': 207}}, 'Fortran': {'_meta': {'id': 208}}, 'Go': {'_meta': {'id': 209}}, 'HTML': {'HTML5': {'_meta': {'id': 212}}, '_meta': {'id': 211}}, 'Haskell': {'_meta': {'id': 210}}, 'Java': {'_meta': {'id': 213}}, 'Javascript': {'ES10': {'_meta': {'id': 215}}, '_meta': {'id': 214}}, 'Julia': {'_meta': {'id': 216}}, 'Lisp': {'_meta': {'id': 217}}, 'MySQL': {'_meta': {'id': 227}}, 'Objective-C': {'_meta': {'id': 218}}, 'PHP': {'_meta': {'id': 220}}, 'Perl': {'_meta': {'id': 219}}, 'PostgreSQL': {'_meta': {'id': 228}}, 'Python': {'_meta': {'id': 221}}, 'R': {'_meta': {'id': 222}}, 'Ruby': {'_meta': {'id': 223}}, 'SQL': {'_meta': {'id': 226}}, 'Scala': {'_meta': {'id': 224}}, 'Smalltalk': {'_meta': {'id': 225}}, 'Swift': {'_meta': {'id': 229}}, 'Typescript': {'_meta': {'id': 230}}, 'VHDL': {'_meta': {'id': 231}}, '_meta': {'id': 201}}, 'operations': {'DevOps': {'_meta': {'id': 183}}, '_meta': {'id': 179}, 'automated testing': {'_meta': {'id': 180}}, 'continuous deployment': {'_meta': {'id': 181}}, 'continuous integration': {'_meta': {'id': 182}}, 'orchestration': {'_meta': {'id': 184}}, 'virtualization': {'Docker': {'_meta': {'id': 186}}, 'VMware': {'_meta': {'id': 187}}, '_meta': {'id': 185}, 'kubernetes': {'_meta': {'id': 189}}, 'virtual machines': {'_meta': {'id': 188}}}}, 'paradigms': {'_meta': {'id': 255}, 'model-view-controller': {'_meta': {'id': 258}}, 'object oriented programming': {'_meta': {'id': 256}}, 'reactive programming': {'_meta': {'id': 257}}}, 'security': {'_meta': {'id': 164}, 'authentication': {'_meta': {'id': 165}}, 'authorization': {'_meta': {'id': 166}}, 'encryption': {'_meta': {'id': 167}}}, 'software development': {'_meta': {'id': 170}, 'build process': {'Makefiles': {'_meta': {'id': 172}}, '_meta': {'id': 171}}, 'debugging': {'_meta': {'id': 173}}, 'documentation': {'_meta': {'id': 175}}, 'documenting code': {'_meta': {'id': 176}}, 'profiling': {'_meta': {'id': 174}}, 'version control': {'_meta': {'id': 177}, 'git': {'_meta': {'id': 178}}}}, 'software testing': {'_meta': {'id': 168}, 'test driven development': {'_meta': {'id': 169}}}}}, 'graph_tag': 'test', 'id': 1, 'name': 'Test graph', 'root_id': 1, 'updated_at': 'Tue, 10 Nov 2020 18:57:05 GMT'}\n"
     ]
    }
   ],
   "source": [
    "r = requests.get(base_url + \"/graphs/{0}\".format(graph_id))\n",
    "print(\"Status code\", r.status_code)\n",
    "\n",
    "print(\"Response\", r.json())\n",
    "\n",
    "skill_graph = r.json()[\"graph\"]"
   ]
  },
  {
   "cell_type": "markdown",
   "metadata": {},
   "source": [
    "# Create organisation\n",
    "\n",
    "An organisation is a collection of users that share a skills graph and profiles."
   ]
  },
  {
   "cell_type": "code",
   "execution_count": 17,
   "metadata": {},
   "outputs": [
    {
     "name": "stdout",
     "output_type": "stream",
     "text": [
      "Status code 200\n",
      "Response {'id': 1}\n"
     ]
    }
   ],
   "source": [
    "# Create a new organisation\n",
    "\n",
    "new_org = {\"name\":\"Test organisation\",\n",
    "             \"graph\":graph_tag,\n",
    "            }\n",
    "\n",
    "r = requests.post(base_url + \"/organisations\", json=new_org)\n",
    "print(\"Status code\", r.status_code)\n",
    "print(\"Response\", r.json())\n",
    "\n",
    "organisation_id = r.json()[\"id\"]"
   ]
  },
  {
   "cell_type": "code",
   "execution_count": 18,
   "metadata": {},
   "outputs": [
    {
     "name": "stdout",
     "output_type": "stream",
     "text": [
      "Status code 200\n",
      "Response [{'id': 1, 'name': 'Test organisation'}]\n"
     ]
    }
   ],
   "source": [
    "# View all organisations\n",
    "\n",
    "r = requests.get(base_url + \"/organisations\")\n",
    "print(\"Status code\", r.status_code)\n",
    "\n",
    "print(\"Response\", r.json())"
   ]
  },
  {
   "cell_type": "code",
   "execution_count": 19,
   "metadata": {},
   "outputs": [
    {
     "name": "stdout",
     "output_type": "stream",
     "text": [
      "Status code 200\n",
      "Response {'created_at': 'Tue, 10 Nov 2020 18:57:13 GMT', 'graph': 'test', 'id': 1, 'name': 'Test organisation', 'updated_at': 'Tue, 10 Nov 2020 18:57:13 GMT'}\n"
     ]
    }
   ],
   "source": [
    "# View more detail on one organisation\n",
    "\n",
    "r = requests.get(base_url + \"/organisations/{0}\".format(organisation_id))\n",
    "print(\"Status code\", r.status_code)\n",
    "\n",
    "print(\"Response\", r.json())"
   ]
  },
  {
   "cell_type": "markdown",
   "metadata": {},
   "source": [
    "# Create profiles\n",
    "\n",
    "Profiles are used to collect skills and associate levels.\n",
    "\n",
    "A variety of sample profiles for specific jobs are available"
   ]
  },
  {
   "cell_type": "code",
   "execution_count": 43,
   "metadata": {},
   "outputs": [],
   "source": [
    "# Load sample data\n",
    "\n",
    "profile_dir = 'sample_data/profiles/'\n",
    "\n",
    "level_map = {'B':'beginner','I':'intermediate','A':'advanced','E':'expert'}\n",
    "\n",
    "def skill_id_map(graph, path):\n",
    "    if len(path) == 1:\n",
    "        return graph[path[0]]['_meta']['id']\n",
    "    return skill_id_map(graph[path[0]], path[1:])\n",
    "\n",
    "profiles = {}\n",
    "\n",
    "for fn in os.listdir(profile_dir):\n",
    "    profile_name = fn[:-len('.skills.csv')]\n",
    "    data = pd.read_csv(os.path.join(profile_dir, fn), header=None)\n",
    "    profile_competences = {}\n",
    "    for _,competence in data.iterrows():\n",
    "        level = competence[0]\n",
    "        path=[i for i in competence[1:].tolist() if isinstance(i, str)]\n",
    "        skill_id = skill_id_map(skill_graph, path)\n",
    "        profile_competences[skill_id] = level_map[level]\n",
    "    profiles[profile_name] = profile_competences"
   ]
  },
  {
   "cell_type": "code",
   "execution_count": 44,
   "metadata": {},
   "outputs": [
    {
     "data": {
      "text/plain": [
       "{'Applications Engineer': {16: 'intermediate',\n",
       "  181: 'advanced',\n",
       "  203: 'advanced',\n",
       "  221: 'expert',\n",
       "  319: 'advanced',\n",
       "  327: 'advanced',\n",
       "  377: 'intermediate'},\n",
       " 'Business Intelligence Analyst': {6: 'advanced',\n",
       "  19: 'advanced',\n",
       "  75: 'expert',\n",
       "  226: 'advanced',\n",
       "  291: 'advanced'},\n",
       " 'Chief Information Security Officer': {20: 'advanced',\n",
       "  301: 'advanced',\n",
       "  303: 'expert',\n",
       "  304: 'advanced',\n",
       "  307: 'expert',\n",
       "  308: 'expert',\n",
       "  309: 'expert',\n",
       "  310: 'expert',\n",
       "  311: 'expert',\n",
       "  327: 'expert',\n",
       "  331: 'advanced',\n",
       "  332: 'advanced'},\n",
       " 'Cloud architect': {181: 'advanced',\n",
       "  184: 'advanced',\n",
       "  185: 'advanced',\n",
       "  314: 'advanced',\n",
       "  319: 'expert',\n",
       "  327: 'advanced',\n",
       "  335: 'expert',\n",
       "  336: 'intermediate',\n",
       "  337: 'intermediate',\n",
       "  346: 'advanced'},\n",
       " 'Computer Hardware Engineers': {20: 'advanced',\n",
       "  175: 'advanced',\n",
       "  176: 'intermediate',\n",
       "  190: 'expert',\n",
       "  191: 'advanced',\n",
       "  192: 'expert',\n",
       "  193: 'advanced',\n",
       "  194: 'advanced',\n",
       "  198: 'advanced',\n",
       "  199: 'advanced',\n",
       "  200: 'advanced',\n",
       "  231: 'advanced'},\n",
       " 'Computer and Information Systems Managers': {5: 'advanced',\n",
       "  21: 'advanced',\n",
       "  301: 'advanced',\n",
       "  327: 'advanced',\n",
       "  331: 'advanced'},\n",
       " 'Data Analyst': {76: 'expert',\n",
       "  101: 'expert',\n",
       "  128: 'intermediate',\n",
       "  139: 'intermediate',\n",
       "  142: 'intermediate',\n",
       "  150: 'expert',\n",
       "  162: 'advanced',\n",
       "  178: 'intermediate',\n",
       "  203: 'expert',\n",
       "  221: 'advanced',\n",
       "  226: 'advanced',\n",
       "  393: 'intermediate',\n",
       "  394: 'intermediate'},\n",
       " 'Data Engineer': {101: 'expert',\n",
       "  136: 'expert',\n",
       "  137: 'expert',\n",
       "  150: 'expert',\n",
       "  178: 'advanced',\n",
       "  221: 'advanced',\n",
       "  226: 'expert'},\n",
       " 'Data Scientist': {76: 'expert',\n",
       "  101: 'expert',\n",
       "  128: 'expert',\n",
       "  139: 'expert',\n",
       "  142: 'expert',\n",
       "  143: 'expert',\n",
       "  144: 'expert',\n",
       "  150: 'expert',\n",
       "  162: 'expert',\n",
       "  178: 'advanced',\n",
       "  203: 'expert',\n",
       "  221: 'expert',\n",
       "  226: 'expert',\n",
       "  393: 'advanced',\n",
       "  394: 'advanced'},\n",
       " 'Database Administrators': {226: 'expert',\n",
       "  271: 'advanced',\n",
       "  272: 'advanced',\n",
       "  327: 'advanced',\n",
       "  340: 'expert'},\n",
       " 'Database Architects': {75: 'advanced',\n",
       "  137: 'expert',\n",
       "  226: 'expert',\n",
       "  272: 'advanced',\n",
       "  278: 'advanced',\n",
       "  293: 'advanced',\n",
       "  294: 'advanced',\n",
       "  295: 'advanced',\n",
       "  327: 'advanced'},\n",
       " 'DevOps Engineer': {181: 'expert',\n",
       "  184: 'advanced',\n",
       "  185: 'advanced',\n",
       "  203: 'expert',\n",
       "  221: 'advanced',\n",
       "  314: 'expert',\n",
       "  319: 'expert',\n",
       "  327: 'advanced',\n",
       "  335: 'advanced',\n",
       "  346: 'expert'},\n",
       " 'Electrical Engineer': {299: 'intermediate',\n",
       "  300: 'intermediate',\n",
       "  351: 'expert',\n",
       "  352: 'expert',\n",
       "  353: 'expert',\n",
       "  357: 'advanced',\n",
       "  362: 'expert',\n",
       "  363: 'expert',\n",
       "  393: 'advanced',\n",
       "  395: 'advanced'},\n",
       " 'Full stack developer': {36: 'advanced',\n",
       "  168: 'advanced',\n",
       "  178: 'advanced',\n",
       "  180: 'advanced',\n",
       "  207: 'expert',\n",
       "  211: 'expert',\n",
       "  212: 'intermediate',\n",
       "  214: 'advanced',\n",
       "  226: 'advanced',\n",
       "  241: 'expert',\n",
       "  254: 'expert',\n",
       "  319: 'advanced',\n",
       "  335: 'advanced'},\n",
       " 'Information Security Analysts': {164: 'expert',\n",
       "  307: 'advanced',\n",
       "  308: 'advanced',\n",
       "  309: 'advanced',\n",
       "  310: 'advanced',\n",
       "  311: 'advanced',\n",
       "  327: 'expert',\n",
       "  329: 'expert',\n",
       "  330: 'advanced',\n",
       "  331: 'expert',\n",
       "  333: 'advanced'},\n",
       " 'Machine Learning Engineer': {76: 'expert',\n",
       "  101: 'advanced',\n",
       "  128: 'expert',\n",
       "  139: 'advanced',\n",
       "  142: 'advanced',\n",
       "  143: 'expert',\n",
       "  144: 'expert',\n",
       "  150: 'expert',\n",
       "  153: 'advanced',\n",
       "  162: 'expert',\n",
       "  178: 'advanced',\n",
       "  203: 'advanced',\n",
       "  221: 'advanced',\n",
       "  226: 'expert',\n",
       "  335: 'advanced',\n",
       "  393: 'expert',\n",
       "  394: 'expert'},\n",
       " 'Machine Learning Researcher': {76: 'expert',\n",
       "  101: 'expert',\n",
       "  128: 'expert',\n",
       "  139: 'expert',\n",
       "  142: 'expert',\n",
       "  143: 'expert',\n",
       "  144: 'expert',\n",
       "  150: 'expert',\n",
       "  162: 'expert',\n",
       "  178: 'intermediate',\n",
       "  203: 'advanced',\n",
       "  221: 'advanced',\n",
       "  226: 'advanced',\n",
       "  393: 'expert',\n",
       "  394: 'expert'},\n",
       " 'Mobile Developer': {155: 'advanced',\n",
       "  157: 'advanced',\n",
       "  176: 'intermediate',\n",
       "  315: 'advanced',\n",
       "  317: 'expert',\n",
       "  318: 'expert'},\n",
       " 'Product Manager': {5: 'advanced',\n",
       "  16: 'advanced',\n",
       "  155: 'intermediate',\n",
       "  157: 'intermediate',\n",
       "  170: 'intermediate',\n",
       "  376: 'intermediate',\n",
       "  377: 'expert'},\n",
       " 'Sales Engineer': {16: 'advanced',\n",
       "  17: 'advanced',\n",
       "  170: 'intermediate',\n",
       "  350: 'intermediate',\n",
       "  378: 'intermediate',\n",
       "  379: 'expert'},\n",
       " 'Security Engineer': {164: 'expert',\n",
       "  203: 'expert',\n",
       "  221: 'advanced',\n",
       "  306: 'advanced',\n",
       "  312: 'advanced',\n",
       "  330: 'advanced'},\n",
       " 'Software Developers, Applications': {154: 'expert',\n",
       "  155: 'expert',\n",
       "  157: 'expert',\n",
       "  159: 'advanced',\n",
       "  160: 'advanced',\n",
       "  168: 'expert',\n",
       "  173: 'advanced',\n",
       "  175: 'advanced',\n",
       "  260: 'advanced'},\n",
       " 'Software Engineer': {76: 'intermediate',\n",
       "  139: 'expert',\n",
       "  150: 'intermediate',\n",
       "  162: 'expert',\n",
       "  178: 'expert',\n",
       "  221: 'expert',\n",
       "  226: 'expert',\n",
       "  335: 'expert'},\n",
       " 'Software Engineer ML': {76: 'expert',\n",
       "  101: 'expert',\n",
       "  128: 'expert',\n",
       "  139: 'expert',\n",
       "  142: 'expert',\n",
       "  143: 'expert',\n",
       "  144: 'expert',\n",
       "  150: 'expert',\n",
       "  162: 'expert',\n",
       "  178: 'advanced',\n",
       "  203: 'expert',\n",
       "  221: 'expert',\n",
       "  226: 'expert',\n",
       "  335: 'advanced',\n",
       "  393: 'advanced',\n",
       "  394: 'advanced'},\n",
       " 'Solutions Architect': {313: 'advanced',\n",
       "  319: 'advanced',\n",
       "  335: 'advanced',\n",
       "  377: 'advanced'},\n",
       " 'Systems Administrator': {43: 'expert',\n",
       "  164: 'advanced',\n",
       "  184: 'advanced',\n",
       "  190: 'advanced',\n",
       "  314: 'advanced',\n",
       "  339: 'expert',\n",
       "  345: 'expert'},\n",
       " 'Systems Engineer': {181: 'advanced',\n",
       "  184: 'expert',\n",
       "  203: 'expert',\n",
       "  314: 'expert',\n",
       "  327: 'advanced',\n",
       "  345: 'advanced'},\n",
       " 'UX Designer': {36: 'advanced',\n",
       "  38: 'expert',\n",
       "  155: 'expert',\n",
       "  157: 'expert',\n",
       "  207: 'expert',\n",
       "  211: 'expert',\n",
       "  214: 'expert'},\n",
       " 'Web Developers': {36: 'advanced',\n",
       "  168: 'advanced',\n",
       "  178: 'advanced',\n",
       "  180: 'advanced',\n",
       "  207: 'expert',\n",
       "  211: 'expert',\n",
       "  212: 'advanced',\n",
       "  214: 'expert',\n",
       "  241: 'expert'}}"
      ]
     },
     "execution_count": 44,
     "metadata": {},
     "output_type": "execute_result"
    }
   ],
   "source": [
    "profiles"
   ]
  },
  {
   "cell_type": "code",
   "execution_count": 51,
   "metadata": {
    "scrolled": true
   },
   "outputs": [
    {
     "name": "stdout",
     "output_type": "stream",
     "text": [
      "Creating profile Applications Engineer\n",
      "Status code 200\n",
      "Response {'id': 3}\n",
      "Creating profile Data Scientist\n",
      "Status code 200\n",
      "Response {'id': 4}\n",
      "Creating profile Computer and Information Systems Managers\n",
      "Status code 200\n",
      "Response {'id': 5}\n",
      "Creating profile Web Developers\n",
      "Status code 200\n",
      "Response {'id': 6}\n",
      "Creating profile Software Engineer\n",
      "Status code 200\n",
      "Response {'id': 7}\n",
      "Creating profile Software Engineer ML\n",
      "Status code 200\n",
      "Response {'id': 8}\n",
      "Creating profile Systems Engineer\n",
      "Status code 200\n",
      "Response {'id': 9}\n",
      "Creating profile DevOps Engineer\n",
      "Status code 200\n",
      "Response {'id': 10}\n",
      "Creating profile Machine Learning Researcher\n",
      "Status code 200\n",
      "Response {'id': 11}\n",
      "Creating profile Business Intelligence Analyst\n",
      "Status code 200\n",
      "Response {'id': 12}\n",
      "Creating profile Software Developers, Applications\n",
      "Status code 200\n",
      "Response {'id': 13}\n",
      "Creating profile Cloud architect\n",
      "Status code 200\n",
      "Response {'id': 14}\n",
      "Creating profile Sales Engineer\n",
      "Status code 200\n",
      "Response {'id': 15}\n",
      "Creating profile Database Administrators\n",
      "Status code 200\n",
      "Response {'id': 16}\n",
      "Creating profile Security Engineer\n",
      "Status code 200\n",
      "Response {'id': 17}\n",
      "Creating profile Computer Hardware Engineers\n",
      "Status code 200\n",
      "Response {'id': 18}\n",
      "Creating profile Data Engineer\n",
      "Status code 200\n",
      "Response {'id': 19}\n",
      "Creating profile Product Manager\n",
      "Status code 200\n",
      "Response {'id': 20}\n",
      "Creating profile UX Designer\n",
      "Status code 200\n",
      "Response {'id': 21}\n",
      "Creating profile Solutions Architect\n",
      "Status code 200\n",
      "Response {'id': 22}\n",
      "Creating profile Mobile Developer\n",
      "Status code 200\n",
      "Response {'id': 23}\n",
      "Creating profile Machine Learning Engineer\n",
      "Status code 200\n",
      "Response {'id': 24}\n",
      "Creating profile Information Security Analysts\n",
      "Status code 200\n",
      "Response {'id': 25}\n",
      "Creating profile Data Analyst\n",
      "Status code 200\n",
      "Response {'id': 26}\n",
      "Creating profile Full stack developer\n",
      "Status code 200\n",
      "Response {'id': 27}\n",
      "Creating profile Systems Administrator\n",
      "Status code 200\n",
      "Response {'id': 28}\n",
      "Creating profile Electrical Engineer\n",
      "Status code 200\n",
      "Response {'id': 29}\n",
      "Creating profile Database Architects\n",
      "Status code 200\n",
      "Response {'id': 30}\n",
      "Creating profile Chief Information Security Officer\n",
      "Status code 200\n",
      "Response {'id': 31}\n"
     ]
    }
   ],
   "source": [
    "# Load all profiles\n",
    "\n",
    "for profile_name, competences in profiles.items():\n",
    "    print(\"Creating profile\", profile_name)\n",
    "    new_profile = {\"name\":profile_name,\n",
    "                   \"competences\":competences\n",
    "                  }\n",
    "    r = requests.post(base_url + \"/organisations/{0}/profiles\".format(organisation_id), json=new_profile)\n",
    "    print(\"Status code\", r.status_code)\n",
    "    print(\"Response\", r.json())"
   ]
  },
  {
   "cell_type": "code",
   "execution_count": 60,
   "metadata": {},
   "outputs": [
    {
     "name": "stdout",
     "output_type": "stream",
     "text": [
      "Status code 200\n",
      "Response [{'id': 1, 'name': 'Test organisation'}, {'id': 2, 'name': 'Applications Engineer'}, {'id': 3, 'name': 'Applications Engineer'}, {'id': 4, 'name': 'Data Scientist'}, {'id': 5, 'name': 'Computer and Information Systems Managers'}, {'id': 6, 'name': 'Web Developers'}, {'id': 7, 'name': 'Software Engineer'}, {'id': 8, 'name': 'Software Engineer ML'}, {'id': 9, 'name': 'Systems Engineer'}, {'id': 10, 'name': 'DevOps Engineer'}, {'id': 11, 'name': 'Machine Learning Researcher'}, {'id': 12, 'name': 'Business Intelligence Analyst'}, {'id': 13, 'name': 'Software Developers, Applications'}, {'id': 14, 'name': 'Cloud architect'}, {'id': 15, 'name': 'Sales Engineer'}, {'id': 16, 'name': 'Database Administrators'}, {'id': 17, 'name': 'Security Engineer'}, {'id': 18, 'name': 'Computer Hardware Engineers'}, {'id': 19, 'name': 'Data Engineer'}, {'id': 20, 'name': 'Product Manager'}, {'id': 21, 'name': 'UX Designer'}, {'id': 22, 'name': 'Solutions Architect'}, {'id': 23, 'name': 'Mobile Developer'}, {'id': 24, 'name': 'Machine Learning Engineer'}, {'id': 25, 'name': 'Information Security Analysts'}, {'id': 26, 'name': 'Data Analyst'}, {'id': 27, 'name': 'Full stack developer'}, {'id': 28, 'name': 'Systems Administrator'}, {'id': 29, 'name': 'Electrical Engineer'}, {'id': 30, 'name': 'Database Architects'}, {'id': 31, 'name': 'Chief Information Security Officer'}]\n"
     ]
    }
   ],
   "source": [
    "# List all profiles for an organisation\n",
    "\n",
    "r = requests.get(base_url + \"/organisations/{0}/profiles\".format(organisation_id))\n",
    "print(\"Status code\", r.status_code)\n",
    "\n",
    "print(\"Response\", r.json())"
   ]
  },
  {
   "cell_type": "markdown",
   "metadata": {},
   "source": [
    "# Create users"
   ]
  },
  {
   "cell_type": "code",
   "execution_count": 58,
   "metadata": {},
   "outputs": [
    {
     "name": "stdout",
     "output_type": "stream",
     "text": [
      "Creating user Adam\n",
      "Status code 200\n",
      "Response {'id': 3}\n",
      "Creating user Beth\n",
      "Status code 200\n",
      "Response {'id': 4}\n",
      "Creating user Chris\n",
      "Status code 200\n",
      "Response {'id': 5}\n",
      "Creating user Dani\n",
      "Status code 200\n",
      "Response {'id': 6}\n"
     ]
    }
   ],
   "source": [
    "# Create four users with the competences associated with a job profile\n",
    "\n",
    "users = [(\"Adam\", profiles[\"Data Engineer\"]), \n",
    "         (\"Beth\", profiles[\"Electrical Engineer\"]), \n",
    "         (\"Chris\", profiles[\"Mobile Developer\"]), \n",
    "         (\"Dani\", profiles[\"Security Engineer\"])]\n",
    "\n",
    "for user,competences in users:\n",
    "    print(\"Creating user\", user)\n",
    "    new_user = {\"email\":\"{0}@test.local\".format(user),\n",
    "                \"name\":user,\n",
    "                \"graph\":graph_tag,\n",
    "                \"competences\":competences\n",
    "               }\n",
    "    r = requests.post(base_url + \"/organisations/{0}/users\".format(organisation_id), json=new_user)\n",
    "    print(\"Status code\", r.status_code)\n",
    "    print(\"Response\", r.json())"
   ]
  },
  {
   "cell_type": "code",
   "execution_count": 61,
   "metadata": {},
   "outputs": [
    {
     "name": "stdout",
     "output_type": "stream",
     "text": [
      "Status code 200\n",
      "Response [{'id': 3, 'name': 'Adam'}, {'id': 4, 'name': 'Beth'}, {'id': 5, 'name': 'Chris'}, {'id': 6, 'name': 'Dani'}]\n"
     ]
    }
   ],
   "source": [
    "# List all users for an organisation\n",
    "\n",
    "r = requests.get(base_url + \"/organisations/{0}/users\".format(organisation_id))\n",
    "print(\"Status code\", r.status_code)\n",
    "\n",
    "print(\"Response\", r.json())"
   ]
  },
  {
   "cell_type": "code",
   "execution_count": null,
   "metadata": {},
   "outputs": [],
   "source": []
  },
  {
   "cell_type": "code",
   "execution_count": null,
   "metadata": {},
   "outputs": [],
   "source": []
  },
  {
   "cell_type": "code",
   "execution_count": null,
   "metadata": {},
   "outputs": [],
   "source": []
  },
  {
   "cell_type": "code",
   "execution_count": null,
   "metadata": {},
   "outputs": [],
   "source": []
  }
 ],
 "metadata": {
  "kernelspec": {
   "display_name": "Python 3",
   "language": "python",
   "name": "python3"
  },
  "language_info": {
   "codemirror_mode": {
    "name": "ipython",
    "version": 3
   },
   "file_extension": ".py",
   "mimetype": "text/x-python",
   "name": "python",
   "nbconvert_exporter": "python",
   "pygments_lexer": "ipython3",
   "version": "3.6.9"
  }
 },
 "nbformat": 4,
 "nbformat_minor": 2
}
